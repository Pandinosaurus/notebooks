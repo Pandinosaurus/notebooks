{
 "cells": [
  {
   "cell_type": "markdown",
   "metadata": {},
   "source": [
    "# Prompting"
   ]
  },
  {
   "cell_type": "markdown",
   "metadata": {},
   "source": [
    "Prompts describes what a model should generate. Good prompts are detailed, specific, and structured and they generate better images and videos.\n",
    "\n",
    "This guide shows you how to write effective prompts and introduces techniques that make them stronger."
   ]
  },
  {
   "cell_type": "markdown",
   "metadata": {},
   "source": [
    "## Writing good prompts"
   ]
  },
  {
   "cell_type": "markdown",
   "metadata": {},
   "source": [
    "Every effective prompt needs three core elements.\n",
    "\n",
    "1. <span class=\"underline decoration-sky-500 decoration-2 underline-offset-4\">Subject</span> - what you want to generate. Start your prompt here.\n",
    "2. <span class=\"underline decoration-pink-500 decoration-2 underline-offset-4\">Style</span> - the medium or aesthetic. How should it look?\n",
    "3. <span class=\"underline decoration-green-500 decoration-2 underline-offset-4\">Context</span> - details about actions, setting, and mood.\n",
    "\n",
    "Use these elements as a structured narrative, not a keyword list. Modern models understand language better than keyword matching. Start simple, then add details.\n",
    "\n",
    "Context is especially important for creating better prompts. Try adding lighting, artistic details, and mood.\n",
    "\n",
    "<div class=\"flex gap-4\">\n",
    "  <div class=\"flex-1 text-center\">\n",
    "    <img src=\"https://huggingface.co/datasets/huggingface/documentation-images/resolve/main/diffusers/ok-prompt.png\" class=\"w-full h-auto object-cover rounded-lg\">\n",
    "    <figcaption class=\"mt-2 text-sm text-gray-500\">A <span class=\"underline decoration-sky-500 decoration-2 underline-offset-1\">cute cat</span> <span class=\"underline decoration-pink-500 decoration-2 underline-offset-1\">lounges on a leaf in a pool during a peaceful summer afternoon</span>, in <span class=\"underline decoration-green-500 decoration-2 underline-offset-1\">lofi art style, illustration</span>.</figcaption>\n",
    "  </div>\n",
    "  <div class=\"flex-1 text-center\">\n",
    "    <img src=\"https://huggingface.co/datasets/huggingface/documentation-images/resolve/main/diffusers/better-prompt.png\" class=\"w-full h-auto object-cover rounded-lg\"/>\n",
    "    <figcaption class=\"mt-2 text-sm text-gray-500\">A cute cat lounges on a floating leaf in a sparkling pool during a peaceful summer afternoon. Clear reflections ripple across the water, with sunlight casting soft, smooth highlights. The illustration is detailed and polished, with elegant lines and harmonious colors, evoking a relaxing, serene, and whimsical lofi mood, anime-inspired and visually comforting.</figcaption>\n",
    "  </div>\n",
    "</div>\n",
    "\n",
    "Be specific and add context. Use photography terms like lens type, focal length, camera angles, and depth of field.\n",
    "\n",
    "> [!TIP]\n",
    "> Try a [prompt enhancer](https://huggingface.co/models?sort=downloads&search=prompt+enhancer) to help improve your prompt structure."
   ]
  },
  {
   "cell_type": "markdown",
   "metadata": {},
   "source": [
    "## Prompt weighting"
   ]
  },
  {
   "cell_type": "markdown",
   "metadata": {},
   "source": [
    "Prompt weighting makes some words stronger and others weaker. It scales attention scores so you control how much influence each concept has.\n",
    "\n",
    "Diffusers handles this through `prompt_embeds` and `pooled_prompt_embeds` arguments which take scaled text embedding vectors. Use the [sd_embed](https://github.com/xhinker/sd_embed) library to generate these embeddings. It also supports longer prompts.\n",
    "\n",
    "> [!NOTE]\n",
    "> The sd_embed library only supports Stable Diffusion, Stable Diffusion XL, Stable Diffusion 3, Stable Cascade, and Flux. Prompt weighting doesn't necessarily help for newer models like Flux which already has very good prompt adherence."
   ]
  },
  {
   "cell_type": "code",
   "execution_count": null,
   "metadata": {},
   "outputs": [],
   "source": [
    "!uv pip install git+https://github.com/xhinker/sd_embed.git@main"
   ]
  },
  {
   "cell_type": "markdown",
   "metadata": {},
   "source": [
    "Format weighted text with numerical multipliers or parentheses. More parentheses mean stronger weighting.\n",
    "\n",
    "| format | multiplier |\n",
    "|---|---|\n",
    "| `(cat)` | increase by 1.1x |\n",
    "| `((cat))` | increase by 1.21x |\n",
    "| `(cat:1.5)` | increase by 1.5x |\n",
    "| `(cat:0.5)` | decrease by 4x |\n",
    "\n",
    "Create a weighted prompt and pass it to [get_weighted_text_embeddings_sdxl](https://github.com/xhinker/sd_embed/blob/4a47f71150a22942fa606fb741a1c971d95ba56f/src/sd_embed/embedding_funcs.py#L405) to generate embeddings.\n",
    "\n",
    "> [!TIP]\n",
    "> You could also pass negative prompts to `negative_prompt_embeds` and `negative_pooled_prompt_embeds`."
   ]
  },
  {
   "cell_type": "code",
   "execution_count": null,
   "metadata": {},
   "outputs": [],
   "source": [
    "import torch\n",
    "from diffusers import DiffusionPipeline\n",
    "from sd_embed.embedding_funcs import get_weighted_text_embeddings_sdxl\n",
    "\n",
    "pipeline = DiffusionPipeline.from_pretrained(\n",
    "    \"Lykon/dreamshaper-xl-1-0\", torch_dtype=torch.bfloat16, device_map=\"cuda\"\n",
    ")\n",
    "\n",
    "prompt = \"\"\"\n",
    "A (cute cat:1.4) lounges on a (floating leaf:1.2) in a (sparkling pool:1.1) during a peaceful summer afternoon.\n",
    "Gentle ripples reflect pastel skies, while (sunlight:1.1) casts soft highlights. The illustration is smooth and polished\n",
    "with elegant, sketchy lines and subtle gradients, evoking a ((whimsical, nostalgic, dreamy lofi atmosphere:2.0)), \n",
    "(anime-inspired:1.6), calming, comforting, and visually serene.\n",
    "\"\"\"\n",
    "\n",
    "prompt_embeds, _, pooled_prompt_embeds, *_ = get_weighted_text_embeddings_sdxl(pipeline, prompt=prompt)"
   ]
  },
  {
   "cell_type": "markdown",
   "metadata": {},
   "source": [
    "Pass the embeddings to `prompt_embeds` and `pooled_prompt_embeds` to generate your image."
   ]
  },
  {
   "cell_type": "code",
   "execution_count": null,
   "metadata": {},
   "outputs": [],
   "source": [
    "image = pipeline(prompt_embeds=prompt_embeds, pooled_prompt_embeds=pooled_prompt_embeds).images[0]"
   ]
  },
  {
   "cell_type": "markdown",
   "metadata": {},
   "source": [
    "<div class=\"flex justify-center\">\n",
    "  <img src=\"https://huggingface.co/datasets/huggingface/documentation-images/resolve/main/diffusers/prompt-embed-sdxl.png\"/>\n",
    "</div>\n",
    "\n",
    "Prompt weighting works with [Textual inversion](https://huggingface.co/docs/diffusers/main/en/using-diffusers/./textual_inversion_inference) and [DreamBooth](https://huggingface.co/docs/diffusers/main/en/using-diffusers/./dreambooth) adapters too."
   ]
  }
 ],
 "metadata": {},
 "nbformat": 4,
 "nbformat_minor": 4
}

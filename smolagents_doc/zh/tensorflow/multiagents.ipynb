{
 "cells": [
  {
   "cell_type": "code",
   "execution_count": null,
   "metadata": {},
   "outputs": [],
   "source": [
    "# Installation\n",
    "! pip install smolagents\n",
    "# To install from source instead of the last release, comment the command above and uncomment the following one.\n",
    "# ! pip install git+https://github.com/huggingface/smolagents.git"
   ]
  },
  {
   "cell_type": "markdown",
   "metadata": {},
   "source": [
    "# 编排 multi-agent 系统 🤖🤝🤖"
   ]
  },
  {
   "cell_type": "markdown",
   "metadata": {},
   "source": [
    "此notebook将构建一个 **multi-agent 网络浏览器：一个有多个代理协作，使用网络进行搜索解决问题的代理系统**\n",
    "\n",
    "`ManagedAgent` 对象将封装这些管理网络搜索的agent，形成一个简单的层次结构：\n",
    "\n",
    "```\n",
    "              +----------------+\n",
    "              | Manager agent  |\n",
    "              +----------------+\n",
    "                       |\n",
    "        _______________|______________\n",
    "       |                              |\n",
    "  Code interpreter   +--------------------------------+\n",
    "       tool          |         Managed agent          |\n",
    "                     |      +------------------+      |\n",
    "                     |      | Web Search agent |      |\n",
    "                     |      +------------------+      |\n",
    "                     |         |            |         |\n",
    "                     |  Web Search tool     |         |\n",
    "                     |             Visit webpage tool |\n",
    "                     +--------------------------------+\n",
    "```\n",
    "我们来一起构建这个系统。运行下列代码以安装依赖包：\n",
    "\n",
    "```\n",
    "!pip install 'smolagents[toolkit]' --upgrade -q\n",
    "```\n",
    "\n",
    "我们需要登录Hugging Face Hub以调用HF的Inference API：\n",
    "\n",
    "```\n",
    "from huggingface_hub import login\n",
    "\n",
    "login()\n",
    "```\n",
    "\n",
    "⚡️ HF的Inference API 可以快速轻松地运行任何开源模型，因此我们的agent将使用HF的Inference API\n",
    "中的`InferenceClientModel`类来调用\n",
    "[Qwen/Qwen2.5-Coder-32B-Instruct](https://huggingface.co/Qwen/Qwen2.5-Coder-32B-Instruct)模型。\n",
    "\n",
    "_Note:_ 基于多参数和部署模型的 Inference API 可能在没有预先通知的情况下更新或替换模型。了解更多信息，请参阅[这里](https://huggingface.co/docs/api-inference/supported-models)。"
   ]
  },
  {
   "cell_type": "code",
   "execution_count": null,
   "metadata": {},
   "outputs": [],
   "source": [
    "model_id = \"Qwen/Qwen2.5-Coder-32B-Instruct\""
   ]
  },
  {
   "cell_type": "markdown",
   "metadata": {},
   "source": [
    "## 🔍 创建网络搜索工具"
   ]
  },
  {
   "cell_type": "markdown",
   "metadata": {},
   "source": [
    "虽然我们可以使用已经存在的\n",
    "`WebSearchTool`\n",
    "工具作为谷歌搜索的平替进行网页浏览，然后我们也需要能够查看`WebSearchTool`找到的页面。为此，我\n",
    "们可以直接导入库的内置\n",
    "`VisitWebpageTool`。但是我们将重新构建它以了解其工作原理。\n",
    "\n",
    "我们将使用`markdownify` 来从头构建我们的`VisitWebpageTool`工具。"
   ]
  },
  {
   "cell_type": "code",
   "execution_count": null,
   "metadata": {},
   "outputs": [],
   "source": [
    "import re\n",
    "import requests\n",
    "from markdownify import markdownify\n",
    "from requests.exceptions import RequestException\n",
    "from smolagents import tool\n",
    "\n",
    "\n",
    "@tool\n",
    "def visit_webpage(url: str) -> str:\n",
    "    \"\"\"Visits a webpage at the given URL and returns its content as a markdown string.\n",
    "\n",
    "    Args:\n",
    "        url: The URL of the webpage to visit.\n",
    "\n",
    "    Returns:\n",
    "        The content of the webpage converted to Markdown, or an error message if the request fails.\n",
    "    \"\"\"\n",
    "    try:\n",
    "        # Send a GET request to the URL\n",
    "        response = requests.get(url)\n",
    "        response.raise_for_status()  # Raise an exception for bad status codes\n",
    "\n",
    "        # Convert the HTML content to Markdown\n",
    "        markdown_content = markdownify(response.text).strip()\n",
    "\n",
    "        # Remove multiple line breaks\n",
    "        markdown_content = re.sub(r\"\\n{3,}\", \"\\n\\n\", markdown_content)\n",
    "\n",
    "        return markdown_content\n",
    "\n",
    "    except RequestException as e:\n",
    "        return f\"Error fetching the webpage: {str(e)}\"\n",
    "    except Exception as e:\n",
    "        return f\"An unexpected error occurred: {str(e)}\""
   ]
  },
  {
   "cell_type": "markdown",
   "metadata": {},
   "source": [
    "现在我们初始化这个工具并测试它！"
   ]
  },
  {
   "cell_type": "code",
   "execution_count": null,
   "metadata": {},
   "outputs": [],
   "source": [
    "print(visit_webpage(\"https://en.wikipedia.org/wiki/Hugging_Face\")[:500])"
   ]
  },
  {
   "cell_type": "markdown",
   "metadata": {},
   "source": [
    "## 构建我们的 multi-agent 系统 🤖🤝🤖"
   ]
  },
  {
   "cell_type": "markdown",
   "metadata": {},
   "source": [
    "现在我们有了所有工具`search`和`visit_webpage`，我们可以使用它们来创建web agent。\n",
    "\n",
    "我们该选取什么样的配置来构建这个agent呢？\n",
    "- 网页浏览是一个单线程任务，不需要并行工具调用，因此JSON工具调用对于这个任务非常有效。因此我们选择`ToolCallingAgent`。\n",
    "- 有时候网页搜索需要探索许多页面才能找到正确答案，所以我们更喜欢将 `max_steps` 增加到10。"
   ]
  },
  {
   "cell_type": "code",
   "execution_count": null,
   "metadata": {},
   "outputs": [],
   "source": [
    "from smolagents import (\n",
    "    CodeAgent,\n",
    "    ToolCallingAgent,\n",
    "    InferenceClientModel,\n",
    "    ManagedAgent,\n",
    "    WebSearchTool,\n",
    ")\n",
    "\n",
    "model = InferenceClientModel(model_id=model_id)\n",
    "\n",
    "web_agent = ToolCallingAgent(\n",
    "    tools=[WebSearchTool(), visit_webpage],\n",
    "    model=model,\n",
    "    max_steps=10,\n",
    "    name=\"search\",\n",
    "    description=\"Runs web searches for you. Give it your query as an argument.\",\n",
    ")"
   ]
  },
  {
   "cell_type": "markdown",
   "metadata": {},
   "source": [
    "请注意，我们为这个代理赋予了 name（名称）和 description（描述）属性，这些是必需属性，以便让管理代理能够调用此代理。\n",
    "\n",
    "然后，我们创建一个管理代理，在初始化时，将受管代理作为 managed_agents 参数传递给它。\n",
    "\n",
    "由于这个代理的任务是进行规划和思考，高级推理能力会很有帮助，因此 CodeAgent（代码代理）将是最佳选择。\n",
    "\n",
    "此外，我们要提出一个涉及当前年份并需要进行额外数据计算的问题：所以让我们添加 additional_authorized_imports=[\"time\", \"numpy\", \"pandas\"]，以防代理需要用到这些包。"
   ]
  },
  {
   "cell_type": "code",
   "execution_count": null,
   "metadata": {},
   "outputs": [],
   "source": [
    "manager_agent = CodeAgent(\n",
    "    tools=[],\n",
    "    model=model,\n",
    "    managed_agents=[web_agent],\n",
    "    additional_authorized_imports=[\"time\", \"numpy\", \"pandas\"],\n",
    ")"
   ]
  },
  {
   "cell_type": "markdown",
   "metadata": {},
   "source": [
    "可以了！现在让我们运行我们的系统！我们选择一个需要一些计算和研究的问题："
   ]
  },
  {
   "cell_type": "code",
   "execution_count": null,
   "metadata": {},
   "outputs": [],
   "source": [
    "answer = manager_agent.run(\"If LLM training continues to scale up at the current rhythm until 2030, what would be the electric power in GW required to power the biggest training runs by 2030? What would that correspond to, compared to some countries? Please provide a source for any numbers used.\")"
   ]
  },
  {
   "cell_type": "markdown",
   "metadata": {},
   "source": [
    "我们用这个report 来回答这个问题：\n",
    "```\n",
    "Based on current growth projections and energy consumption estimates, if LLM trainings continue to scale up at the\n",
    "current rhythm until 2030:\n",
    "\n",
    "1. The electric power required to power the biggest training runs by 2030 would be approximately 303.74 GW, which\n",
    "translates to about 2,660,762 GWh/year.\n",
    "\n",
    "1. Comparing this to countries' electricity consumption:\n",
    "   - It would be equivalent to about 34% of China's total electricity consumption.\n",
    "   - It would exceed the total electricity consumption of India (184%), Russia (267%), and Japan (291%).\n",
    "   - It would be nearly 9 times the electricity consumption of countries like Italy or Mexico.\n",
    "\n",
    "2. Source of numbers:\n",
    "   - The initial estimate of 5 GW for future LLM training comes from AWS CEO Matt Garman.\n",
    "   - The growth projection used a CAGR of 79.80% from market research by Springs.\n",
    "   - Country electricity consumption data is from the U.S. Energy Information Administration, primarily for the year\n",
    "2021.\n",
    "```\n",
    "\n",
    "如果[scaling hypothesis](https://gwern.net/scaling-hypothesis)持续成立的话，我们需要一些庞大的动力配置。我们的agent成功地协作解决了这个任务！✅\n",
    "\n",
    "💡 你可以轻松地将这个编排扩展到更多的agent：一个执行代码，一个进行网页搜索，一个处理文件加载⋯⋯"
   ]
  }
 ],
 "metadata": {},
 "nbformat": 4,
 "nbformat_minor": 4
}

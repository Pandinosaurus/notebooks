{
  "cells": [
    {
      "cell_type": "markdown",
      "metadata": {
        "id": "F88mignPnalS"
      },
      "source": [
        "# Introduction\n",
        "\n",
        "This colab is design to run the pretrained models from [GeoDiff](https://github.com/MinkaiXu/GeoDiff).\n",
        "The visualization code is inspired by this PyMol [colab](https://colab.research.google.com/gist/iwatobipen/2ec7faeafe5974501e69fcc98c122922/pymol.ipynb#scrollTo=Hm4kY7CaZSlw).\n",
        "\n",
        "The goal is to generate physically accurate molecules. Given the input of a molecule graph (atom and bond structures with their connectivity -- in the form of a 2d graph). What we want to generate is a stable 3d structure of the molecule. \n",
        "\n",
        "This colab uses GEOM datasets that have multiple 3d targets per configuration, which provide more compelling targets for generative methods.\n",
        "\n",
        "> Colab made by [natolambert](https://twitter.com/natolambert).\n",
        "\n",
        "![diffusers_library](https://github.com/huggingface/diffusers/raw/main/docs/source/imgs/diffusers_library.jpg)\n"
      ]
    },
    {
      "cell_type": "markdown",
      "metadata": {
        "id": "7cnwXMocnuzB"
      },
      "source": [
        "## Installations\n",
        "\n"
      ]
    },
    {
      "cell_type": "markdown",
      "source": [
        "### Install Conda"
      ],
      "metadata": {
        "id": "ff9SxWnaNId9"
      }
    },
    {
      "cell_type": "markdown",
      "metadata": {
        "id": "1g_6zOabItDk"
      },
      "source": [
        "Here we check the `cuda` version of colab. When this was built, the version was always 11.1, which impacts some installation decisions below."
      ]
    },
    {
      "cell_type": "code",
      "execution_count": 1,
      "metadata": {
        "colab": {
          "base_uri": "https://localhost:8080/"
        },
        "id": "K0ofXobG5Y-X",
        "outputId": "0fce9f6f-534c-413f-906e-348cfe15a3c6"
      },
      "outputs": [
        {
          "output_type": "stream",
          "name": "stdout",
          "text": [
            "nvcc: NVIDIA (R) Cuda compiler driver\n",
            "Copyright (c) 2005-2021 NVIDIA Corporation\n",
            "Built on Sun_Feb_14_21:12:58_PST_2021\n",
            "Cuda compilation tools, release 11.2, V11.2.152\n",
            "Build cuda_11.2.r11.2/compiler.29618528_0\n"
          ]
        }
      ],
      "source": [
        "!nvcc --version"
      ]
    },
    {
      "cell_type": "markdown",
      "metadata": {
        "id": "VfthW90vI0nw"
      },
      "source": [
        "Install Conda for some more complex dependencies for geometric networks."
      ]
    },
    {
      "cell_type": "code",
      "execution_count": null,
      "metadata": {
        "id": "2WNFzSnbiE0k"
      },
      "outputs": [],
      "source": [
        "!pip install -q condacolab"
      ]
    },
    {
      "cell_type": "markdown",
      "metadata": {
        "id": "NUsbWYCUI7Km"
      },
      "source": [
        "Setup Conda"
      ]
    },
    {
      "cell_type": "code",
      "execution_count": null,
      "metadata": {
        "id": "FZelreINdmd0"
      },
      "outputs": [],
      "source": [
        "import condacolab\n",
        "condacolab.install()"
      ]
    },
    {
      "cell_type": "markdown",
      "metadata": {
        "id": "JzDHaPU7I9Sn"
      },
      "source": [
        "Install pytorch requirements (this takes a few minutes, go grab yourself a coffee 🤗)"
      ]
    },
    {
      "cell_type": "code",
      "execution_count": null,
      "metadata": {
        "id": "JMxRjHhL7w8V"
      },
      "outputs": [],
      "source": [
        "!conda install pytorch torchvision torchaudio cudatoolkit=11.1 -c pytorch-lts -c nvidia\n",
        "# !conda install pytorch==1.8.0 torchvision==0.9.0 torchaudio==0.8.0 cudatoolkit=11.1 -c pytorch -c conda-forge"
      ]
    },
    {
      "cell_type": "markdown",
      "source": [
        "Need to remove a pathspec for colab that specifies the incorrect cuda version."
      ],
      "metadata": {
        "id": "QDS6FPZ0Tu5b"
      }
    },
    {
      "cell_type": "code",
      "source": [
        "!rm /usr/local/conda-meta/pinned"
      ],
      "metadata": {
        "id": "dq1lxR10TtrR"
      },
      "execution_count": null,
      "outputs": []
    },
    {
      "cell_type": "markdown",
      "metadata": {
        "id": "Z1L3DdZOJB30"
      },
      "source": [
        "Install torch geometric (used in the model later)"
      ]
    },
    {
      "cell_type": "code",
      "execution_count": null,
      "metadata": {
        "id": "D5ukfCOWfjzK"
      },
      "outputs": [],
      "source": [
        "!conda install -c rusty1s pytorch-geometric=1.7.2"
      ]
    },
    {
      "cell_type": "markdown",
      "metadata": {
        "id": "ppxv6Mdkalbc"
      },
      "source": [
        "### Install Diffusers"
      ]
    },
    {
      "cell_type": "code",
      "execution_count": null,
      "metadata": {
        "id": "mgQA_XN-XGY2"
      },
      "outputs": [],
      "source": [
        "%cd /content\n",
        "\n",
        "# install latest HF diffusers (will update to the release once added)\n",
        "!git clone https://github.com/huggingface/diffusers.git\n",
        "!pip install -q /content/diffusers \n",
        "\n",
        "# dependencies for diffusers\n",
        "!pip install -q datasets transformers "
      ]
    },
    {
      "cell_type": "markdown",
      "metadata": {
        "id": "LZO6AJKuJKO8"
      },
      "source": [
        "Check that torch is installed correctly and utilizing the GPU in the colab"
      ]
    },
    {
      "cell_type": "code",
      "execution_count": null,
      "metadata": {
        "id": "gZt7BNi1e1PA"
      },
      "outputs": [],
      "source": [
        "import torch\n",
        "print(torch.cuda.is_available())\n",
        "torch.__version__"
      ]
    },
    {
      "cell_type": "markdown",
      "metadata": {
        "id": "KLE7CqlfJNUO"
      },
      "source": [
        "### Install Chemistry-specific Dependencies\n",
        "\n",
        "Install RDKit, a tool for working with and visualizing chemsitry in python (you use this to visualize the generate models later)."
      ]
    },
    {
      "cell_type": "code",
      "execution_count": null,
      "metadata": {
        "id": "0CPv_NvehRz3"
      },
      "outputs": [],
      "source": [
        "!pip install rdkit"
      ]
    },
    {
      "cell_type": "markdown",
      "metadata": {
        "id": "88GaDbDPxJ5I"
      },
      "source": [
        "### Get viewer from nglview\n",
        "\n",
        "The model you will use outputs a position matrix tensor. This pytorch geometric data object will have many features (positions, known features, edge features -- all tensors). \n",
        "The data we give to the model will also have a rdmol object (which can extract features to geometric if needed). \n",
        "The rdmol in this object is a source of ground truth for the generated molecules.\n",
        "\n",
        "You will use one rendering function from nglviewer later!\n",
        "\n"
      ]
    },
    {
      "cell_type": "code",
      "execution_count": null,
      "metadata": {
        "id": "jcl8GCS2mz6t"
      },
      "outputs": [],
      "source": [
        "!pip install nglview"
      ]
    },
    {
      "cell_type": "markdown",
      "source": [
        "## Create a diffusion model"
      ],
      "metadata": {
        "id": "8t8_e_uVLdKB"
      }
    },
    {
      "cell_type": "markdown",
      "source": [
        "### Model class(es)"
      ],
      "metadata": {
        "id": "G0rMncVtNSqU"
      }
    },
    {
      "cell_type": "markdown",
      "source": [
        "Imports"
      ],
      "metadata": {
        "id": "L5FEXz5oXkzt"
      }
    },
    {
      "cell_type": "code",
      "source": [
        "# Model adapted from GeoDiff https://github.com/MinkaiXu/GeoDiff\n",
        "# Model inspired by https://github.com/DeepGraphLearning/torchdrug/tree/master/torchdrug/models\n",
        "from dataclasses import dataclass\n",
        "from typing import Callable, Tuple, Union\n",
        "\n",
        "import numpy as np\n",
        "import torch\n",
        "import torch.nn.functional as F\n",
        "from torch import Tensor, nn\n",
        "from torch.nn import Embedding, Linear, Module, ModuleList, Sequential\n",
        "\n",
        "from torch_geometric.nn import MessagePassing, radius, radius_graph\n",
        "from torch_geometric.typing import Adj, OptPairTensor, OptTensor, Size\n",
        "from torch_geometric.utils import dense_to_sparse, to_dense_adj\n",
        "from torch_scatter import scatter_add\n",
        "from torch_sparse import SparseTensor, coalesce\n",
        "\n",
        "from diffusers.configuration_utils import ConfigMixin, register_to_config\n",
        "from diffusers.modeling_utils import ModelMixin\n",
        "from diffusers.utils import BaseOutput\n"
      ],
      "metadata": {
        "id": "-3-P4w5sXkRU"
      },
      "execution_count": null,
      "outputs": []
    },
    {
      "cell_type": "markdown",
      "source": [
        "Helper classes"
      ],
      "metadata": {
        "id": "EzJQXPN_XrMX"
      }
    },
    {
      "cell_type": "code",
      "source": [
        "@dataclass\n",
        "class MoleculeGNNOutput(BaseOutput):\n",
        "    \"\"\"\n",
        "    Args:\n",
        "        sample (`torch.FloatTensor` of shape `(batch_size, num_channels, height, width)`):\n",
        "            Hidden states output. Output of last layer of model.\n",
        "    \"\"\"\n",
        "\n",
        "    sample: torch.FloatTensor\n",
        "\n",
        "\n",
        "class MultiLayerPerceptron(nn.Module):\n",
        "    \"\"\"\n",
        "    Multi-layer Perceptron. Note there is no activation or dropout in the last layer.\n",
        "    Args:\n",
        "        input_dim (int): input dimension\n",
        "        hidden_dim (list of int): hidden dimensions\n",
        "        activation (str or function, optional): activation function\n",
        "        dropout (float, optional): dropout rate\n",
        "    \"\"\"\n",
        "\n",
        "    def __init__(self, input_dim, hidden_dims, activation=\"relu\", dropout=0):\n",
        "        super(MultiLayerPerceptron, self).__init__()\n",
        "\n",
        "        self.dims = [input_dim] + hidden_dims\n",
        "        if isinstance(activation, str):\n",
        "            self.activation = getattr(F, activation)\n",
        "        else:\n",
        "            print(f\"Warning, activation passed {activation} is not string and ignored\")\n",
        "            self.activation = None\n",
        "        if dropout > 0:\n",
        "            self.dropout = nn.Dropout(dropout)\n",
        "        else:\n",
        "            self.dropout = None\n",
        "\n",
        "        self.layers = nn.ModuleList()\n",
        "        for i in range(len(self.dims) - 1):\n",
        "            self.layers.append(nn.Linear(self.dims[i], self.dims[i + 1]))\n",
        "\n",
        "    def forward(self, x):\n",
        "        \"\"\"\"\"\"\n",
        "        for i, layer in enumerate(self.layers):\n",
        "            x = layer(x)\n",
        "            if i < len(self.layers) - 1:\n",
        "                if self.activation:\n",
        "                    x = self.activation(x)\n",
        "                if self.dropout:\n",
        "                    x = self.dropout(x)\n",
        "        return x\n",
        "\n",
        "\n",
        "class ShiftedSoftplus(torch.nn.Module):\n",
        "    def __init__(self):\n",
        "        super(ShiftedSoftplus, self).__init__()\n",
        "        self.shift = torch.log(torch.tensor(2.0)).item()\n",
        "\n",
        "    def forward(self, x):\n",
        "        return F.softplus(x) - self.shift\n",
        "\n",
        "\n",
        "class CFConv(MessagePassing):\n",
        "    def __init__(self, in_channels, out_channels, num_filters, mlp, cutoff, smooth):\n",
        "        super(CFConv, self).__init__(aggr=\"add\")\n",
        "        self.lin1 = Linear(in_channels, num_filters, bias=False)\n",
        "        self.lin2 = Linear(num_filters, out_channels)\n",
        "        self.nn = mlp\n",
        "        self.cutoff = cutoff\n",
        "        self.smooth = smooth\n",
        "\n",
        "        self.reset_parameters()\n",
        "\n",
        "    def reset_parameters(self):\n",
        "        torch.nn.init.xavier_uniform_(self.lin1.weight)\n",
        "        torch.nn.init.xavier_uniform_(self.lin2.weight)\n",
        "        self.lin2.bias.data.fill_(0)\n",
        "\n",
        "    def forward(self, x, edge_index, edge_length, edge_attr):\n",
        "        if self.smooth:\n",
        "            C = 0.5 * (torch.cos(edge_length * np.pi / self.cutoff) + 1.0)\n",
        "            C = C * (edge_length <= self.cutoff) * (edge_length >= 0.0)  # Modification: cutoff\n",
        "        else:\n",
        "            C = (edge_length <= self.cutoff).float()\n",
        "        W = self.nn(edge_attr) * C.view(-1, 1)\n",
        "\n",
        "        x = self.lin1(x)\n",
        "        x = self.propagate(edge_index, x=x, W=W)\n",
        "        x = self.lin2(x)\n",
        "        return x\n",
        "\n",
        "    def message(self, x_j: torch.Tensor, W) -> torch.Tensor:\n",
        "        return x_j * W\n",
        "\n",
        "\n",
        "class InteractionBlock(torch.nn.Module):\n",
        "    def __init__(self, hidden_channels, num_gaussians, num_filters, cutoff, smooth):\n",
        "        super(InteractionBlock, self).__init__()\n",
        "        mlp = Sequential(\n",
        "            Linear(num_gaussians, num_filters),\n",
        "            ShiftedSoftplus(),\n",
        "            Linear(num_filters, num_filters),\n",
        "        )\n",
        "        self.conv = CFConv(hidden_channels, hidden_channels, num_filters, mlp, cutoff, smooth)\n",
        "        self.act = ShiftedSoftplus()\n",
        "        self.lin = Linear(hidden_channels, hidden_channels)\n",
        "\n",
        "    def forward(self, x, edge_index, edge_length, edge_attr):\n",
        "        x = self.conv(x, edge_index, edge_length, edge_attr)\n",
        "        x = self.act(x)\n",
        "        x = self.lin(x)\n",
        "        return x\n",
        "\n",
        "\n",
        "class SchNetEncoder(Module):\n",
        "    def __init__(\n",
        "        self, hidden_channels=128, num_filters=128, num_interactions=6, edge_channels=100, cutoff=10.0, smooth=False\n",
        "    ):\n",
        "        super().__init__()\n",
        "\n",
        "        self.hidden_channels = hidden_channels\n",
        "        self.num_filters = num_filters\n",
        "        self.num_interactions = num_interactions\n",
        "        self.cutoff = cutoff\n",
        "\n",
        "        self.embedding = Embedding(100, hidden_channels, max_norm=10.0)\n",
        "\n",
        "        self.interactions = ModuleList()\n",
        "        for _ in range(num_interactions):\n",
        "            block = InteractionBlock(hidden_channels, edge_channels, num_filters, cutoff, smooth)\n",
        "            self.interactions.append(block)\n",
        "\n",
        "    def forward(self, z, edge_index, edge_length, edge_attr, embed_node=True):\n",
        "        if embed_node:\n",
        "            assert z.dim() == 1 and z.dtype == torch.long\n",
        "            h = self.embedding(z)\n",
        "        else:\n",
        "            h = z\n",
        "        for interaction in self.interactions:\n",
        "            h = h + interaction(h, edge_index, edge_length, edge_attr)\n",
        "\n",
        "        return h\n",
        "\n",
        "\n",
        "class GINEConv(MessagePassing):\n",
        "    \"\"\"\n",
        "    Custom class of the graph isomorphism operator from the \"How Powerful are Graph Neural Networks?\n",
        "    https://arxiv.org/abs/1810.00826 paper. Note that this implementation has the added option of a custom activation.\n",
        "    \"\"\"\n",
        "\n",
        "    def __init__(self, mlp: Callable, eps: float = 0.0, train_eps: bool = False, activation=\"softplus\", **kwargs):\n",
        "        super(GINEConv, self).__init__(aggr=\"add\", **kwargs)\n",
        "        self.nn = mlp\n",
        "        self.initial_eps = eps\n",
        "\n",
        "        if isinstance(activation, str):\n",
        "            self.activation = getattr(F, activation)\n",
        "        else:\n",
        "            self.activation = None\n",
        "\n",
        "        if train_eps:\n",
        "            self.eps = torch.nn.Parameter(torch.Tensor([eps]))\n",
        "        else:\n",
        "            self.register_buffer(\"eps\", torch.Tensor([eps]))\n",
        "\n",
        "    def forward(\n",
        "        self, x: Union[Tensor, OptPairTensor], edge_index: Adj, edge_attr: OptTensor = None, size: Size = None\n",
        "    ) -> torch.Tensor:\n",
        "        \"\"\"\"\"\"\n",
        "        if isinstance(x, torch.Tensor):\n",
        "            x: OptPairTensor = (x, x)\n",
        "\n",
        "        # Node and edge feature dimensionalites need to match.\n",
        "        if isinstance(edge_index, torch.Tensor):\n",
        "            assert edge_attr is not None\n",
        "            assert x[0].size(-1) == edge_attr.size(-1)\n",
        "        elif isinstance(edge_index, SparseTensor):\n",
        "            assert x[0].size(-1) == edge_index.size(-1)\n",
        "\n",
        "        # propagate_type: (x: OptPairTensor, edge_attr: OptTensor)\n",
        "        out = self.propagate(edge_index, x=x, edge_attr=edge_attr, size=size)\n",
        "\n",
        "        x_r = x[1]\n",
        "        if x_r is not None:\n",
        "            out += (1 + self.eps) * x_r\n",
        "\n",
        "        return self.nn(out)\n",
        "\n",
        "    def message(self, x_j: torch.Tensor, edge_attr: torch.Tensor) -> torch.Tensor:\n",
        "        if self.activation:\n",
        "            return self.activation(x_j + edge_attr)\n",
        "        else:\n",
        "            return x_j + edge_attr\n",
        "\n",
        "    def __repr__(self):\n",
        "        return \"{}(nn={})\".format(self.__class__.__name__, self.nn)\n",
        "\n",
        "\n",
        "class GINEncoder(torch.nn.Module):\n",
        "    def __init__(self, hidden_dim, num_convs=3, activation=\"relu\", short_cut=True, concat_hidden=False):\n",
        "        super().__init__()\n",
        "\n",
        "        self.hidden_dim = hidden_dim\n",
        "        self.num_convs = num_convs\n",
        "        self.short_cut = short_cut\n",
        "        self.concat_hidden = concat_hidden\n",
        "        self.node_emb = nn.Embedding(100, hidden_dim)\n",
        "\n",
        "        if isinstance(activation, str):\n",
        "            self.activation = getattr(F, activation)\n",
        "        else:\n",
        "            self.activation = None\n",
        "\n",
        "        self.convs = nn.ModuleList()\n",
        "        for i in range(self.num_convs):\n",
        "            self.convs.append(\n",
        "                GINEConv(\n",
        "                    MultiLayerPerceptron(hidden_dim, [hidden_dim, hidden_dim], activation=activation),\n",
        "                    activation=activation,\n",
        "                )\n",
        "            )\n",
        "\n",
        "    def forward(self, z, edge_index, edge_attr):\n",
        "        \"\"\"\n",
        "        Input:\n",
        "            data: (torch_geometric.data.Data): batched graph edge_index: bond indices of the original graph (num_node,\n",
        "            hidden) edge_attr: edge feature tensor with shape (num_edge, hidden)\n",
        "        Output:\n",
        "            node_feature: graph feature\n",
        "        \"\"\"\n",
        "\n",
        "        node_attr = self.node_emb(z)  # (num_node, hidden)\n",
        "\n",
        "        hiddens = []\n",
        "        conv_input = node_attr  # (num_node, hidden)\n",
        "\n",
        "        for conv_idx, conv in enumerate(self.convs):\n",
        "            hidden = conv(conv_input, edge_index, edge_attr)\n",
        "            if conv_idx < len(self.convs) - 1 and self.activation is not None:\n",
        "                hidden = self.activation(hidden)\n",
        "            assert hidden.shape == conv_input.shape\n",
        "            if self.short_cut and hidden.shape == conv_input.shape:\n",
        "                hidden += conv_input\n",
        "\n",
        "            hiddens.append(hidden)\n",
        "            conv_input = hidden\n",
        "\n",
        "        if self.concat_hidden:\n",
        "            node_feature = torch.cat(hiddens, dim=-1)\n",
        "        else:\n",
        "            node_feature = hiddens[-1]\n",
        "\n",
        "        return node_feature\n",
        "\n",
        "\n",
        "class MLPEdgeEncoder(Module):\n",
        "    def __init__(self, hidden_dim=100, activation=\"relu\"):\n",
        "        super().__init__()\n",
        "        self.hidden_dim = hidden_dim\n",
        "        self.bond_emb = Embedding(100, embedding_dim=self.hidden_dim)\n",
        "        self.mlp = MultiLayerPerceptron(1, [self.hidden_dim, self.hidden_dim], activation=activation)\n",
        "\n",
        "    @property\n",
        "    def out_channels(self):\n",
        "        return self.hidden_dim\n",
        "\n",
        "    def forward(self, edge_length, edge_type):\n",
        "        \"\"\"\n",
        "        Input:\n",
        "            edge_length: The length of edges, shape=(E, 1). edge_type: The type pf edges, shape=(E,)\n",
        "        Returns:\n",
        "            edge_attr: The representation of edges. (E, 2 * num_gaussians)\n",
        "        \"\"\"\n",
        "        d_emb = self.mlp(edge_length)  # (num_edge, hidden_dim)\n",
        "        edge_attr = self.bond_emb(edge_type)  # (num_edge, hidden_dim)\n",
        "        return d_emb * edge_attr  # (num_edge, hidden)\n",
        "\n",
        "\n",
        "def assemble_atom_pair_feature(node_attr, edge_index, edge_attr):\n",
        "    h_row, h_col = node_attr[edge_index[0]], node_attr[edge_index[1]]\n",
        "    h_pair = torch.cat([h_row * h_col, edge_attr], dim=-1)  # (E, 2H)\n",
        "    return h_pair\n",
        "\n",
        "\n",
        "def _extend_graph_order(num_nodes, edge_index, edge_type, order=3):\n",
        "    \"\"\"\n",
        "    Args:\n",
        "        num_nodes:  Number of atoms.\n",
        "        edge_index: Bond indices of the original graph.\n",
        "        edge_type:  Bond types of the original graph.\n",
        "        order:  Extension order.\n",
        "    Returns:\n",
        "        new_edge_index: Extended edge indices. new_edge_type: Extended edge types.\n",
        "    \"\"\"\n",
        "\n",
        "    def binarize(x):\n",
        "        return torch.where(x > 0, torch.ones_like(x), torch.zeros_like(x))\n",
        "\n",
        "    def get_higher_order_adj_matrix(adj, order):\n",
        "        \"\"\"\n",
        "        Args:\n",
        "            adj:        (N, N)\n",
        "            type_mat:   (N, N)\n",
        "        Returns:\n",
        "            Following attributes will be updated:\n",
        "              - edge_index\n",
        "              - edge_type\n",
        "            Following attributes will be added to the data object:\n",
        "              - bond_edge_index: Original edge_index.\n",
        "        \"\"\"\n",
        "        adj_mats = [\n",
        "            torch.eye(adj.size(0), dtype=torch.long, device=adj.device),\n",
        "            binarize(adj + torch.eye(adj.size(0), dtype=torch.long, device=adj.device)),\n",
        "        ]\n",
        "\n",
        "        for i in range(2, order + 1):\n",
        "            adj_mats.append(binarize(adj_mats[i - 1] @ adj_mats[1]))\n",
        "        order_mat = torch.zeros_like(adj)\n",
        "\n",
        "        for i in range(1, order + 1):\n",
        "            order_mat += (adj_mats[i] - adj_mats[i - 1]) * i\n",
        "\n",
        "        return order_mat\n",
        "\n",
        "    num_types = 22\n",
        "    # given from len(BOND_TYPES), where BOND_TYPES = {t: i for i, t in enumerate(BT.names.values())}\n",
        "    # from rdkit.Chem.rdchem import BondType as BT\n",
        "    N = num_nodes\n",
        "    adj = to_dense_adj(edge_index).squeeze(0)\n",
        "    adj_order = get_higher_order_adj_matrix(adj, order)  # (N, N)\n",
        "\n",
        "    type_mat = to_dense_adj(edge_index, edge_attr=edge_type).squeeze(0)  # (N, N)\n",
        "    type_highorder = torch.where(adj_order > 1, num_types + adj_order - 1, torch.zeros_like(adj_order))\n",
        "    assert (type_mat * type_highorder == 0).all()\n",
        "    type_new = type_mat + type_highorder\n",
        "\n",
        "    new_edge_index, new_edge_type = dense_to_sparse(type_new)\n",
        "    _, edge_order = dense_to_sparse(adj_order)\n",
        "\n",
        "    # data.bond_edge_index = data.edge_index  # Save original edges\n",
        "    new_edge_index, new_edge_type = coalesce(new_edge_index, new_edge_type.long(), N, N)  # modify data\n",
        "\n",
        "    return new_edge_index, new_edge_type\n",
        "\n",
        "\n",
        "def _extend_to_radius_graph(pos, edge_index, edge_type, cutoff, batch, unspecified_type_number=0, is_sidechain=None):\n",
        "    assert edge_type.dim() == 1\n",
        "    N = pos.size(0)\n",
        "\n",
        "    bgraph_adj = torch.sparse.LongTensor(edge_index, edge_type, torch.Size([N, N]))\n",
        "\n",
        "    if is_sidechain is None:\n",
        "        rgraph_edge_index = radius_graph(pos, r=cutoff, batch=batch)  # (2, E_r)\n",
        "    else:\n",
        "        # fetch sidechain and its batch index\n",
        "        is_sidechain = is_sidechain.bool()\n",
        "        dummy_index = torch.arange(pos.size(0), device=pos.device)\n",
        "        sidechain_pos = pos[is_sidechain]\n",
        "        sidechain_index = dummy_index[is_sidechain]\n",
        "        sidechain_batch = batch[is_sidechain]\n",
        "\n",
        "        assign_index = radius(x=pos, y=sidechain_pos, r=cutoff, batch_x=batch, batch_y=sidechain_batch)\n",
        "        r_edge_index_x = assign_index[1]\n",
        "        r_edge_index_y = assign_index[0]\n",
        "        r_edge_index_y = sidechain_index[r_edge_index_y]\n",
        "\n",
        "        rgraph_edge_index1 = torch.stack((r_edge_index_x, r_edge_index_y))  # (2, E)\n",
        "        rgraph_edge_index2 = torch.stack((r_edge_index_y, r_edge_index_x))  # (2, E)\n",
        "        rgraph_edge_index = torch.cat((rgraph_edge_index1, rgraph_edge_index2), dim=-1)  # (2, 2E)\n",
        "        # delete self loop\n",
        "        rgraph_edge_index = rgraph_edge_index[:, (rgraph_edge_index[0] != rgraph_edge_index[1])]\n",
        "\n",
        "    rgraph_adj = torch.sparse.LongTensor(\n",
        "        rgraph_edge_index,\n",
        "        torch.ones(rgraph_edge_index.size(1)).long().to(pos.device) * unspecified_type_number,\n",
        "        torch.Size([N, N]),\n",
        "    )\n",
        "\n",
        "    composed_adj = (bgraph_adj + rgraph_adj).coalesce()  # Sparse (N, N, T)\n",
        "\n",
        "    new_edge_index = composed_adj.indices()\n",
        "    new_edge_type = composed_adj.values().long()\n",
        "\n",
        "    return new_edge_index, new_edge_type\n",
        "\n",
        "\n",
        "def extend_graph_order_radius(\n",
        "    num_nodes,\n",
        "    pos,\n",
        "    edge_index,\n",
        "    edge_type,\n",
        "    batch,\n",
        "    order=3,\n",
        "    cutoff=10.0,\n",
        "    extend_order=True,\n",
        "    extend_radius=True,\n",
        "    is_sidechain=None,\n",
        "):\n",
        "    if extend_order:\n",
        "        edge_index, edge_type = _extend_graph_order(\n",
        "            num_nodes=num_nodes, edge_index=edge_index, edge_type=edge_type, order=order\n",
        "        )\n",
        "\n",
        "    if extend_radius:\n",
        "        edge_index, edge_type = _extend_to_radius_graph(\n",
        "            pos=pos, edge_index=edge_index, edge_type=edge_type, cutoff=cutoff, batch=batch, is_sidechain=is_sidechain\n",
        "        )\n",
        "\n",
        "    return edge_index, edge_type\n",
        "\n",
        "\n",
        "def get_distance(pos, edge_index):\n",
        "    return (pos[edge_index[0]] - pos[edge_index[1]]).norm(dim=-1)\n",
        "\n",
        "\n",
        "def graph_field_network(score_d, pos, edge_index, edge_length):\n",
        "    \"\"\"\n",
        "    Transformation to make the epsilon predicted from the diffusion model roto-translational equivariant. See equations\n",
        "    5-7 of the GeoDiff Paper https://arxiv.org/pdf/2203.02923.pdf\n",
        "    \"\"\"\n",
        "    N = pos.size(0)\n",
        "    dd_dr = (1.0 / edge_length) * (pos[edge_index[0]] - pos[edge_index[1]])  # (E, 3)\n",
        "    score_pos = scatter_add(dd_dr * score_d, edge_index[0], dim=0, dim_size=N) + scatter_add(\n",
        "        -dd_dr * score_d, edge_index[1], dim=0, dim_size=N\n",
        "    )  # (N, 3)\n",
        "    return score_pos\n",
        "\n",
        "\n",
        "def clip_norm(vec, limit, p=2):\n",
        "    norm = torch.norm(vec, dim=-1, p=2, keepdim=True)\n",
        "    denom = torch.where(norm > limit, limit / norm, torch.ones_like(norm))\n",
        "    return vec * denom\n",
        "\n",
        "\n",
        "def is_local_edge(edge_type):\n",
        "    return edge_type > 0\n"
      ],
      "metadata": {
        "id": "oR1Y56QiLY90"
      },
      "execution_count": null,
      "outputs": []
    },
    {
      "cell_type": "markdown",
      "source": [
        "Main model class!"
      ],
      "metadata": {
        "id": "QWrHJFcYXyUB"
      }
    },
    {
      "cell_type": "code",
      "source": [
        "class MoleculeGNN(ModelMixin, ConfigMixin):\n",
        "    @register_to_config\n",
        "    def __init__(\n",
        "        self,\n",
        "        hidden_dim=128,\n",
        "        num_convs=6,\n",
        "        num_convs_local=4,\n",
        "        cutoff=10.0,\n",
        "        mlp_act=\"relu\",\n",
        "        edge_order=3,\n",
        "        edge_encoder=\"mlp\",\n",
        "        smooth_conv=True,\n",
        "    ):\n",
        "        super().__init__()\n",
        "        self.cutoff = cutoff\n",
        "        self.edge_encoder = edge_encoder\n",
        "        self.edge_order = edge_order\n",
        "\n",
        "        \"\"\"\n",
        "        edge_encoder: Takes both edge type and edge length as input and outputs a vector [Note]: node embedding is done\n",
        "        in SchNetEncoder\n",
        "        \"\"\"\n",
        "        self.edge_encoder_global = MLPEdgeEncoder(hidden_dim, mlp_act)  # get_edge_encoder(config)\n",
        "        self.edge_encoder_local = MLPEdgeEncoder(hidden_dim, mlp_act)  # get_edge_encoder(config)\n",
        "\n",
        "        \"\"\"\n",
        "        The graph neural network that extracts node-wise features.\n",
        "        \"\"\"\n",
        "        self.encoder_global = SchNetEncoder(\n",
        "            hidden_channels=hidden_dim,\n",
        "            num_filters=hidden_dim,\n",
        "            num_interactions=num_convs,\n",
        "            edge_channels=self.edge_encoder_global.out_channels,\n",
        "            cutoff=cutoff,\n",
        "            smooth=smooth_conv,\n",
        "        )\n",
        "        self.encoder_local = GINEncoder(\n",
        "            hidden_dim=hidden_dim,\n",
        "            num_convs=num_convs_local,\n",
        "        )\n",
        "\n",
        "        \"\"\"\n",
        "        `output_mlp` takes a mixture of two nodewise features and edge features as input and outputs\n",
        "            gradients w.r.t. edge_length (out_dim = 1).\n",
        "        \"\"\"\n",
        "        self.grad_global_dist_mlp = MultiLayerPerceptron(\n",
        "            2 * hidden_dim, [hidden_dim, hidden_dim // 2, 1], activation=mlp_act\n",
        "        )\n",
        "\n",
        "        self.grad_local_dist_mlp = MultiLayerPerceptron(\n",
        "            2 * hidden_dim, [hidden_dim, hidden_dim // 2, 1], activation=mlp_act\n",
        "        )\n",
        "\n",
        "        \"\"\"\n",
        "        Incorporate parameters together\n",
        "        \"\"\"\n",
        "        self.model_global = nn.ModuleList([self.edge_encoder_global, self.encoder_global, self.grad_global_dist_mlp])\n",
        "        self.model_local = nn.ModuleList([self.edge_encoder_local, self.encoder_local, self.grad_local_dist_mlp])\n",
        "\n",
        "    def _forward(\n",
        "        self,\n",
        "        atom_type,\n",
        "        pos,\n",
        "        bond_index,\n",
        "        bond_type,\n",
        "        batch,\n",
        "        time_step,  # NOTE, model trained without timestep performed best\n",
        "        edge_index=None,\n",
        "        edge_type=None,\n",
        "        edge_length=None,\n",
        "        return_edges=False,\n",
        "        extend_order=True,\n",
        "        extend_radius=True,\n",
        "        is_sidechain=None,\n",
        "    ):\n",
        "        \"\"\"\n",
        "        Args:\n",
        "            atom_type:  Types of atoms, (N, ).\n",
        "            bond_index: Indices of bonds (not extended, not radius-graph), (2, E).\n",
        "            bond_type:  Bond types, (E, ).\n",
        "            batch:      Node index to graph index, (N, ).\n",
        "        \"\"\"\n",
        "        N = atom_type.size(0)\n",
        "        if edge_index is None or edge_type is None or edge_length is None:\n",
        "            edge_index, edge_type = extend_graph_order_radius(\n",
        "                num_nodes=N,\n",
        "                pos=pos,\n",
        "                edge_index=bond_index,\n",
        "                edge_type=bond_type,\n",
        "                batch=batch,\n",
        "                order=self.edge_order,\n",
        "                cutoff=self.cutoff,\n",
        "                extend_order=extend_order,\n",
        "                extend_radius=extend_radius,\n",
        "                is_sidechain=is_sidechain,\n",
        "            )\n",
        "            edge_length = get_distance(pos, edge_index).unsqueeze(-1)  # (E, 1)\n",
        "        local_edge_mask = is_local_edge(edge_type)  # (E, )\n",
        "\n",
        "        # with the parameterization of NCSNv2\n",
        "        # DDPM loss implicit handle the noise variance scale conditioning\n",
        "        sigma_edge = torch.ones(size=(edge_index.size(1), 1), device=pos.device)  # (E, 1)\n",
        "\n",
        "        # Encoding global\n",
        "        edge_attr_global = self.edge_encoder_global(edge_length=edge_length, edge_type=edge_type)  # Embed edges\n",
        "\n",
        "        # Global\n",
        "        node_attr_global = self.encoder_global(\n",
        "            z=atom_type,\n",
        "            edge_index=edge_index,\n",
        "            edge_length=edge_length,\n",
        "            edge_attr=edge_attr_global,\n",
        "        )\n",
        "        # Assemble pairwise features\n",
        "        h_pair_global = assemble_atom_pair_feature(\n",
        "            node_attr=node_attr_global,\n",
        "            edge_index=edge_index,\n",
        "            edge_attr=edge_attr_global,\n",
        "        )  # (E_global, 2H)\n",
        "        # Invariant features of edges (radius graph, global)\n",
        "        edge_inv_global = self.grad_global_dist_mlp(h_pair_global) * (1.0 / sigma_edge)  # (E_global, 1)\n",
        "\n",
        "        # Encoding local\n",
        "        edge_attr_local = self.edge_encoder_global(edge_length=edge_length, edge_type=edge_type)  # Embed edges\n",
        "        # edge_attr += temb_edge\n",
        "\n",
        "        # Local\n",
        "        node_attr_local = self.encoder_local(\n",
        "            z=atom_type,\n",
        "            edge_index=edge_index[:, local_edge_mask],\n",
        "            edge_attr=edge_attr_local[local_edge_mask],\n",
        "        )\n",
        "        # Assemble pairwise features\n",
        "        h_pair_local = assemble_atom_pair_feature(\n",
        "            node_attr=node_attr_local,\n",
        "            edge_index=edge_index[:, local_edge_mask],\n",
        "            edge_attr=edge_attr_local[local_edge_mask],\n",
        "        )  # (E_local, 2H)\n",
        "\n",
        "        # Invariant features of edges (bond graph, local)\n",
        "        if isinstance(sigma_edge, torch.Tensor):\n",
        "            edge_inv_local = self.grad_local_dist_mlp(h_pair_local) * (\n",
        "                1.0 / sigma_edge[local_edge_mask]\n",
        "            )  # (E_local, 1)\n",
        "        else:\n",
        "            edge_inv_local = self.grad_local_dist_mlp(h_pair_local) * (1.0 / sigma_edge)  # (E_local, 1)\n",
        "\n",
        "        if return_edges:\n",
        "            return edge_inv_global, edge_inv_local, edge_index, edge_type, edge_length, local_edge_mask\n",
        "        else:\n",
        "            return edge_inv_global, edge_inv_local\n",
        "\n",
        "    def forward(\n",
        "        self,\n",
        "        sample,\n",
        "        timestep: Union[torch.Tensor, float, int],\n",
        "        return_dict: bool = True,\n",
        "        sigma=1.0,\n",
        "        global_start_sigma=0.5,\n",
        "        w_global=1.0,\n",
        "        extend_order=False,\n",
        "        extend_radius=True,\n",
        "        clip_local=None,\n",
        "        clip_global=1000.0,\n",
        "    ) -> Union[MoleculeGNNOutput, Tuple]:\n",
        "        r\"\"\"\n",
        "        Args:\n",
        "            sample: packed torch geometric object\n",
        "            timestep (`torch.FloatTensor` or `float` or `int): TODO verify type and shape (batch) timesteps\n",
        "            return_dict (`bool`, *optional*, defaults to `True`):\n",
        "                Whether or not to return a [`~models.molecule_gnn.MoleculeGNNOutput`] instead of a plain tuple.\n",
        "        Returns:\n",
        "            [`~models.molecule_gnn.MoleculeGNNOutput`] or `tuple`: [`~models.molecule_gnn.MoleculeGNNOutput`] if\n",
        "            `return_dict` is True, otherwise a `tuple`. When returning a tuple, the first element is the sample tensor.\n",
        "        \"\"\"\n",
        "\n",
        "        # unpack sample\n",
        "        atom_type = sample.atom_type\n",
        "        bond_index = sample.edge_index\n",
        "        bond_type = sample.edge_type\n",
        "        num_graphs = sample.num_graphs\n",
        "        pos = sample.pos\n",
        "\n",
        "        timesteps = torch.full(size=(num_graphs,), fill_value=timestep, dtype=torch.long, device=pos.device)\n",
        "\n",
        "        edge_inv_global, edge_inv_local, edge_index, edge_type, edge_length, local_edge_mask = self._forward(\n",
        "            atom_type=atom_type,\n",
        "            pos=sample.pos,\n",
        "            bond_index=bond_index,\n",
        "            bond_type=bond_type,\n",
        "            batch=sample.batch,\n",
        "            time_step=timesteps,\n",
        "            return_edges=True,\n",
        "            extend_order=extend_order,\n",
        "            extend_radius=extend_radius,\n",
        "        )  # (E_global, 1), (E_local, 1)\n",
        "\n",
        "        # Important equation in the paper for equivariant features - eqns 5-7 of GeoDiff\n",
        "        node_eq_local = graph_field_network(\n",
        "            edge_inv_local, pos, edge_index[:, local_edge_mask], edge_length[local_edge_mask]\n",
        "        )\n",
        "        if clip_local is not None:\n",
        "            node_eq_local = clip_norm(node_eq_local, limit=clip_local)\n",
        "\n",
        "        # Global\n",
        "        if sigma < global_start_sigma:\n",
        "            edge_inv_global = edge_inv_global * (1 - local_edge_mask.view(-1, 1).float())\n",
        "            node_eq_global = graph_field_network(edge_inv_global, pos, edge_index, edge_length)\n",
        "            node_eq_global = clip_norm(node_eq_global, limit=clip_global)\n",
        "        else:\n",
        "            node_eq_global = 0\n",
        "\n",
        "        # Sum\n",
        "        eps_pos = node_eq_local + node_eq_global * w_global\n",
        "\n",
        "        if not return_dict:\n",
        "            return (-eps_pos,)\n",
        "\n",
        "        return MoleculeGNNOutput(sample=torch.FloatTensor(-eps_pos).to(pos.device))"
      ],
      "metadata": {
        "id": "MCeZA1qQXzoK"
      },
      "execution_count": null,
      "outputs": []
    },
    {
      "cell_type": "markdown",
      "metadata": {
        "id": "CCIrPYSJj9wd"
      },
      "source": [
        "### Load pretrained model"
      ]
    },
    {
      "cell_type": "markdown",
      "metadata": {
        "id": "YdrAr6Ch--Ab"
      },
      "source": [
        "#### Load a model\n",
        "The model used is a design an\n",
        "equivariant convolutional layer, named graph field network (GFN).\n",
        "\n",
        "The warning about `betas` and `alphas` can be ignored, those were moved to the scheduler."
      ]
    },
    {
      "cell_type": "code",
      "execution_count": null,
      "metadata": {
        "id": "DyCo0nsqjbml"
      },
      "outputs": [],
      "source": [
        "DEVICE = 'cuda'\n",
        "model = MoleculeGNN.from_pretrained(\"fusing/gfn-molecule-gen-drugs\").to(DEVICE) "
      ]
    },
    {
      "cell_type": "markdown",
      "source": [
        "The warnings above are because the pre-trained model was uploaded before cleaning the code!"
      ],
      "metadata": {
        "id": "HdclRaqoUWUD"
      }
    },
    {
      "cell_type": "markdown",
      "metadata": {
        "id": "PlOkPySoJ1m9"
      },
      "source": [
        "#### Create scheduler\n",
        "Note, other schedulers are used in the paper for slightly improved performance over DDPM. "
      ]
    },
    {
      "cell_type": "code",
      "execution_count": null,
      "metadata": {
        "id": "nNHnIk9CkAb2"
      },
      "outputs": [],
      "source": [
        "from diffusers import DDPMScheduler"
      ]
    },
    {
      "cell_type": "code",
      "execution_count": null,
      "metadata": {
        "id": "RnDJdDBztjFF"
      },
      "outputs": [],
      "source": [
        "num_timesteps = 1000\n",
        "# scheduler = DDPMScheduler(num_train_timesteps=num_timesteps,beta_schedule=\"sigmoid\",beta_start=1e-7, beta_end=2e-3, clip_sample=False)\n",
        "scheduler = DDPMScheduler(num_train_timesteps=num_timesteps,beta_schedule=\"linear\",beta_start=1e-7, beta_end=2e-3, clip_sample=False)"
      ]
    },
    {
      "cell_type": "markdown",
      "metadata": {
        "id": "1vh3fpSAflkL"
      },
      "source": [
        "### Get a dataset"
      ]
    },
    {
      "cell_type": "markdown",
      "metadata": {
        "id": "B6qzaGjVKFVk"
      },
      "source": [
        "Grab a google tool so we can upload our data directly. Note you need to download the data from ***this [file](https://huggingface.co/datasets/fusing/geodiff-example-data/blob/main/data/molecules.pkl)***\n",
        "\n",
        "(direct downloading from the hub does not yet work for this datatype)"
      ]
    },
    {
      "cell_type": "code",
      "execution_count": null,
      "metadata": {
        "id": "jbLl3EJdgj3x"
      },
      "outputs": [],
      "source": [
        "# from google.colab import files"
      ]
    },
    {
      "cell_type": "code",
      "execution_count": null,
      "metadata": {
        "id": "E591lVuTgxPE"
      },
      "outputs": [],
      "source": [
        "# uploaded = files.upload()"
      ]
    },
    {
      "cell_type": "markdown",
      "metadata": {
        "id": "KUNxfK3ln98Q"
      },
      "source": [
        "Load the dataset with torch."
      ]
    },
    {
      "cell_type": "code",
      "execution_count": null,
      "metadata": {
        "id": "7L4iOShTpcQX"
      },
      "outputs": [],
      "source": [
        "import torch \n",
        "import numpy as np\n",
        "\n",
        "!wget https://huggingface.co/datasets/fusing/geodiff-example-data/resolve/main/data/molecules.pkl\n",
        "dataset = torch.load('/content/molecules.pkl')"
      ]
    },
    {
      "cell_type": "markdown",
      "metadata": {
        "id": "QZcmy1EvKQRk"
      },
      "source": [
        "Print out one entry of the dataset, it contains molecular formulas, atom types, positions, and more."
      ]
    },
    {
      "cell_type": "code",
      "execution_count": null,
      "metadata": {
        "id": "JVjz6iH_H6Eh"
      },
      "outputs": [],
      "source": [
        "dataset[0]"
      ]
    },
    {
      "cell_type": "markdown",
      "source": [
        "## Run the diffusion process"
      ],
      "metadata": {
        "id": "vHNiZAUxNgoy"
      }
    },
    {
      "cell_type": "markdown",
      "metadata": {
        "id": "jZ1KZrxKqENg"
      },
      "source": [
        "#### Helper Functions"
      ]
    },
    {
      "cell_type": "code",
      "execution_count": null,
      "metadata": {
        "id": "s240tYueqKKf"
      },
      "outputs": [],
      "source": [
        "from torch_geometric.data import Data, Batch\n",
        "from torch_scatter import scatter_add, scatter_mean\n",
        "from tqdm import tqdm\n",
        "import copy\n",
        "import os\n",
        "\n",
        "def repeat_data(data: Data, num_repeat) -> Batch:\n",
        "    datas = [copy.deepcopy(data) for i in range(num_repeat)]\n",
        "    return Batch.from_data_list(datas)\n",
        "\n",
        "def repeat_batch(batch: Batch, num_repeat) -> Batch:\n",
        "    datas = batch.to_data_list()\n",
        "    new_data = []\n",
        "    for i in range(num_repeat):\n",
        "        new_data += copy.deepcopy(datas)\n",
        "    return Batch.from_data_list(new_data)"
      ]
    },
    {
      "cell_type": "markdown",
      "metadata": {
        "id": "AMnQTk0eqT7Z"
      },
      "source": [
        "#### Constants"
      ]
    },
    {
      "cell_type": "code",
      "execution_count": null,
      "metadata": {
        "id": "WYGkzqgzrHmF"
      },
      "outputs": [],
      "source": [
        "num_samples = 1 # solutions per molecule\n",
        "num_molecules = 3\n",
        "\n",
        "DEVICE = 'cuda'\n",
        "sampling_type = 'ddpm_noisy' #'' # paper also uses \"generalize\" and \"ld\"\n",
        "# constants for inference\n",
        "w_global = 0.5 #0,.3 for qm9\n",
        "global_start_sigma = 0.5\n",
        "eta = 1.0\n",
        "clip_local = None \n",
        "clip_pos = None\n",
        "\n",
        "# constands for data handling\n",
        "save_traj = False\n",
        "save_data = False\n",
        "output_dir = '/content/'"
      ]
    },
    {
      "cell_type": "markdown",
      "metadata": {
        "id": "-xD5bJ3SqM7t"
      },
      "source": [
        "#### Generate samples!\n",
        "Note that the 3d representation of a molecule is referred to as the **conformation**"
      ]
    },
    {
      "cell_type": "code",
      "source": [
        "sigmas[t].device"
      ],
      "metadata": {
        "id": "YI1vLKAPVbCL"
      },
      "execution_count": null,
      "outputs": []
    },
    {
      "cell_type": "code",
      "execution_count": null,
      "metadata": {
        "id": "x9xuLUNg26z1"
      },
      "outputs": [],
      "source": [
        "results = []\n",
        "\n",
        "# define sigmas\n",
        "sigmas = torch.tensor(1.0 - scheduler.alphas_cumprod).sqrt() / torch.tensor(scheduler.alphas_cumprod).sqrt()\n",
        "sigmas = sigmas.to(DEVICE)\n",
        "\n",
        "for count, data in enumerate(tqdm(dataset)):    \n",
        "    num_samples = max(data.pos_ref.size(0) // data.num_nodes, 1)\n",
        "\n",
        "    data_input = data.clone()\n",
        "    data_input['pos_ref'] = None\n",
        "    batch = repeat_data(data_input, num_samples).to(DEVICE)\n",
        "\n",
        "    # initial configuration\n",
        "    pos_init = torch.randn(batch.num_nodes, 3).to(DEVICE)\n",
        "\n",
        "    # for logging animation of denoising\n",
        "    pos_traj = []\n",
        "    with torch.no_grad():\n",
        "\n",
        "        # scale initial sample\n",
        "        pos = pos_init * sigmas[-1]\n",
        "        for t in scheduler.timesteps:\n",
        "            batch.pos = pos\n",
        "\n",
        "            # generate geometry with model, then filter it\n",
        "            epsilon = model.forward(batch, t, sigma=sigmas[t], return_dict=False)[0]\n",
        "\n",
        "            # Update\n",
        "            reconstructed_pos = scheduler.step(epsilon, t, pos)[\"prev_sample\"].to(DEVICE)\n",
        "\n",
        "            pos = reconstructed_pos\n",
        "\n",
        "            if torch.isnan(pos).any():\n",
        "                print(\"NaN detected. Please restart.\")\n",
        "                raise FloatingPointError()\n",
        "\n",
        "            # recenter graph of positions for next iteration\n",
        "            pos = pos - scatter_mean(pos, batch.batch, dim=0)[batch.batch]\n",
        "\n",
        "            # optional clipping\n",
        "            if clip_pos is not None:\n",
        "                pos = torch.clamp(pos, min=-clip_pos, max=clip_pos)\n",
        "            pos_traj.append(pos.clone().cpu())\n",
        "\n",
        "    pos_gen = pos.cpu()\n",
        "    if save_traj:\n",
        "        pos_gen_traj = pos_traj.cpu()\n",
        "        data.pos_gen = torch.stack(pos_gen_traj)\n",
        "    else:\n",
        "        data.pos_gen = pos_gen\n",
        "    results.append(data)\n",
        "\n",
        "\n",
        "if save_data:\n",
        "  save_path = os.path.join(output_dir, 'samples_all.pkl')\n",
        "\n",
        "  with open(save_path, 'wb') as f:\n",
        "      pickle.dump(results, f)"
      ]
    },
    {
      "cell_type": "markdown",
      "source": [
        "## Render the results!"
      ],
      "metadata": {
        "id": "fSApwSaZNndW"
      }
    },
    {
      "cell_type": "markdown",
      "metadata": {
        "id": "d47Zxo2OKdgZ"
      },
      "source": [
        "This function allows us to render 3d in colab."
      ]
    },
    {
      "cell_type": "code",
      "execution_count": null,
      "metadata": {
        "id": "e9Cd0kCAv9b8"
      },
      "outputs": [],
      "source": [
        "from google.colab import output\n",
        "output.enable_custom_widget_manager()"
      ]
    },
    {
      "cell_type": "markdown",
      "source": [
        "### Helper functions"
      ],
      "metadata": {
        "id": "RjaVuR15NqzF"
      }
    },
    {
      "cell_type": "markdown",
      "metadata": {
        "id": "28rBYa9NKhlz"
      },
      "source": [
        "Here is a helper function for copying the generated tensors into a format used by RDKit & NGLViewer."
      ]
    },
    {
      "cell_type": "code",
      "execution_count": null,
      "metadata": {
        "id": "LKdKdwxcyTQ6"
      },
      "outputs": [],
      "source": [
        "from copy import deepcopy\n",
        "def set_rdmol_positions(rdkit_mol, pos):\n",
        "    \"\"\"\n",
        "    Args:\n",
        "        rdkit_mol:  An `rdkit.Chem.rdchem.Mol` object.\n",
        "        pos: (N_atoms, 3)\n",
        "    \"\"\"\n",
        "    mol = deepcopy(rdkit_mol)\n",
        "    set_rdmol_positions_(mol, pos)\n",
        "    return mol\n",
        "\n",
        "def set_rdmol_positions_(mol, pos):\n",
        "    \"\"\"\n",
        "    Args:\n",
        "        rdkit_mol:  An `rdkit.Chem.rdchem.Mol` object.\n",
        "        pos: (N_atoms, 3)\n",
        "    \"\"\"\n",
        "    for i in range(pos.shape[0]):\n",
        "        mol.GetConformer(0).SetAtomPosition(i, pos[i].tolist())\n",
        "    return mol\n"
      ]
    },
    {
      "cell_type": "markdown",
      "metadata": {
        "id": "NuE10hcpKmzK"
      },
      "source": [
        "Process the generated data to make it easy to view."
      ]
    },
    {
      "cell_type": "code",
      "execution_count": null,
      "metadata": {
        "id": "KieVE1vc0_Vs"
      },
      "outputs": [],
      "source": [
        "# the model can generate multiple conformations per 2d geometry\n",
        "num_gen = results[0]['pos_gen'].shape[0]\n",
        "\n",
        "# init storage objects\n",
        "mols_gen = []\n",
        "mols_orig = []\n",
        "for to_process in results:\n",
        "\n",
        "    # store the reference 3d position\n",
        "    to_process['pos_ref'] = to_process['pos_ref'].reshape(-1, to_process['rdmol'].GetNumAtoms(), 3)\n",
        "\n",
        "    # store the generated 3d position\n",
        "    to_process['pos_gen'] = to_process['pos_gen'].reshape(-1, to_process['rdmol'].GetNumAtoms(), 3)\n",
        "\n",
        "    # copy data to new object\n",
        "    new_mol = set_rdmol_positions(to_process.rdmol, to_process['pos_gen'][0])\n",
        "\n",
        "    # append results\n",
        "    mols_gen.append(new_mol)\n",
        "    mols_orig.append(to_process.rdmol)\n",
        "\n",
        "print(f\"collect {len(mols_gen)} generated molecules in `mols`\")"
      ]
    },
    {
      "cell_type": "markdown",
      "metadata": {
        "id": "tin89JwMKp4v"
      },
      "source": [
        "Import tools to visualize the 2d chemical diagram of the molecule."
      ]
    },
    {
      "cell_type": "code",
      "execution_count": null,
      "metadata": {
        "id": "yqV6gllSZn38"
      },
      "outputs": [],
      "source": [
        "from rdkit.Chem import AllChem\n",
        "from rdkit import Chem\n",
        "from rdkit.Chem.Draw import rdMolDraw2D as MD2\n",
        "from IPython.display import SVG, display"
      ]
    },
    {
      "cell_type": "markdown",
      "metadata": {
        "id": "TFNKmGddVoOk"
      },
      "source": [
        "Select molecule to visualize"
      ]
    },
    {
      "cell_type": "code",
      "execution_count": null,
      "metadata": {
        "id": "KzuwLlrrVaGc"
      },
      "outputs": [],
      "source": [
        "idx = 0\n",
        "assert idx < len(results), \"selected molecule that was not generated\""
      ]
    },
    {
      "cell_type": "markdown",
      "source": [
        "### Viewing"
      ],
      "metadata": {
        "id": "hkb8w0_SNtU8"
      }
    },
    {
      "cell_type": "markdown",
      "metadata": {
        "id": "I3R4QBQeKttN"
      },
      "source": [
        "This 2D rendering is the equivalent of the **input to the model**!"
      ]
    },
    {
      "cell_type": "code",
      "execution_count": null,
      "metadata": {
        "id": "gkQRWjraaKex"
      },
      "outputs": [],
      "source": [
        "mc = Chem.MolFromSmiles(dataset[0]['smiles'])\n",
        "molSize=(450,300)\n",
        "drawer = MD2.MolDraw2DSVG(molSize[0],molSize[1])\n",
        "drawer.DrawMolecule(mc)\n",
        "drawer.FinishDrawing()\n",
        "svg = drawer.GetDrawingText()\n",
        "display(SVG(svg.replace('svg:','')))"
      ]
    },
    {
      "cell_type": "markdown",
      "metadata": {
        "id": "z4FDMYMxKw2I"
      },
      "source": [
        "Generate the 3d molecule! "
      ]
    },
    {
      "cell_type": "code",
      "execution_count": null,
      "metadata": {
        "id": "aT1Bkb8YxJfV"
      },
      "outputs": [],
      "source": [
        "from nglview import show_rdkit as show"
      ]
    },
    {
      "cell_type": "code",
      "execution_count": null,
      "metadata": {
        "id": "pxtq8I-I18C-"
      },
      "outputs": [],
      "source": [
        "# new molecule\n",
        "show(mols_gen[idx])"
      ]
    },
    {
      "cell_type": "code",
      "source": [],
      "metadata": {
        "id": "KJr4h2mwXeTo"
      },
      "execution_count": null,
      "outputs": []
    }
  ],
  "metadata": {
    "accelerator": "GPU",
    "colab": {
      "collapsed_sections": [],
      "provenance": [],
      "toc_visible": true
    },
    "gpuClass": "standard",
    "kernelspec": {
      "display_name": "Python 3",
      "name": "python3"
    },
    "language_info": {
      "name": "python"
    }
  },
  "nbformat": 4,
  "nbformat_minor": 0
}
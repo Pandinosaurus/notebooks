{
 "cells": [
  {
   "cell_type": "code",
   "execution_count": null,
   "metadata": {},
   "outputs": [],
   "source": [
    "# Transformers installation\n",
    "! pip install transformers datasets evaluate accelerate\n",
    "# To install from source instead of the last release, comment the command above and uncomment the following one.\n",
    "# ! pip install git+https://github.com/huggingface/transformers.git"
   ]
  },
  {
   "cell_type": "markdown",
   "metadata": {},
   "source": [
    "# Image tasks with IDEFICS"
   ]
  },
  {
   "cell_type": "markdown",
   "metadata": {},
   "source": [
    "While individual tasks can be tackled by fine-tuning specialized models, an alternative approach\n",
    "that has recently emerged and gained popularity is to use large models for a diverse set of tasks without fine-tuning.\n",
    "For instance, large language models can handle such NLP tasks as summarization, translation, classification, and more.\n",
    "This approach is no longer limited to a single modality, such as text, and in this guide, we will illustrate how you can\n",
    "solve image-text tasks with a large multimodal model called IDEFICS.\n",
    "\n",
    "[IDEFICS](https://huggingface.co/docs/transformers/main/en/tasks/../model_doc/idefics) is an open-access vision and language model based on [Flamingo](https://huggingface.co/papers/2204.14198),\n",
    "a state-of-the-art visual language model initially developed by DeepMind. The model accepts arbitrary sequences of image\n",
    "and text inputs and generates coherent text as output. It can answer questions about images, describe visual content,\n",
    "create stories grounded in multiple images, and so on. IDEFICS comes in two variants - [80 billion parameters](https://huggingface.co/HuggingFaceM4/idefics-80b)\n",
    "and [9 billion parameters](https://huggingface.co/HuggingFaceM4/idefics-9b), both of which are available on the 🤗 Hub. For each variant, you can also find fine-tuned instructed\n",
    "versions of the model adapted for conversational use cases.\n",
    "\n",
    "This model is exceptionally versatile and can be used for a wide range of image and multimodal tasks. However,\n",
    "being a large model means it requires significant computational resources and infrastructure. It is up to you to decide whether\n",
    "this approach suits your use case better than fine-tuning specialized models for each individual task.\n",
    "\n",
    "In this guide, you'll learn how to:\n",
    "\n",
    "- [Load IDEFICS](#loading-the-model) and [load the quantized version of the model](#quantized-model)\n",
    "- Use IDEFICS for:\n",
    "  - [Image captioning](#image-captioning)\n",
    "  - [Prompted image captioning](#prompted-image-captioning)\n",
    "  - [Few-shot prompting](#few-shot-prompting)\n",
    "  - [Visual question answering](#visual-question-answering)\n",
    "  - [Image classification](#image-classification)\n",
    "  - [Image-guided text generation](#image-guided-text-generation)\n",
    "- [Run inference in batch mode](#running-inference-in-batch-mode)\n",
    "- [Run IDEFICS instruct for conversational use](#idefics-instruct-for-conversational-use)\n",
    "\n",
    "Before you begin, make sure you have all the necessary libraries installed.\n",
    "\n",
    "```bash\n",
    "pip install -q bitsandbytes sentencepiece accelerate transformers\n",
    "```\n",
    "\n",
    "<Tip>\n",
    "To run the following examples with a non-quantized version of the model checkpoint you will need at least 20GB of GPU memory.\n",
    "</Tip>"
   ]
  },
  {
   "cell_type": "markdown",
   "metadata": {},
   "source": [
    "## Loading the model"
   ]
  },
  {
   "cell_type": "markdown",
   "metadata": {},
   "source": [
    "Let's start by loading the model's 9 billion parameters checkpoint:"
   ]
  },
  {
   "cell_type": "code",
   "execution_count": null,
   "metadata": {},
   "outputs": [],
   "source": [
    "checkpoint = \"HuggingFaceM4/idefics-9b\""
   ]
  },
  {
   "cell_type": "markdown",
   "metadata": {},
   "source": [
    "Just like for other Transformers models, you need to load a processor and the model itself from the checkpoint.\n",
    "The IDEFICS processor wraps a [LlamaTokenizer](https://huggingface.co/docs/transformers/main/en/model_doc/llama#transformers.LlamaTokenizer) and IDEFICS image processor into a single processor to take care of\n",
    "preparing text and image inputs for the model."
   ]
  },
  {
   "cell_type": "code",
   "execution_count": null,
   "metadata": {},
   "outputs": [],
   "source": [
    "import torch\n",
    "\n",
    "from transformers import IdeficsForVisionText2Text, AutoProcessor\n",
    "\n",
    "processor = AutoProcessor.from_pretrained(checkpoint)\n",
    "\n",
    "model = IdeficsForVisionText2Text.from_pretrained(checkpoint, dtype=torch.bfloat16, device_map=\"auto\")"
   ]
  },
  {
   "cell_type": "markdown",
   "metadata": {},
   "source": [
    "Setting `device_map` to `\"auto\"` will automatically determine how to load and store the model weights in the most optimized\n",
    "manner given existing devices."
   ]
  },
  {
   "cell_type": "markdown",
   "metadata": {},
   "source": [
    "### Quantized model"
   ]
  },
  {
   "cell_type": "markdown",
   "metadata": {},
   "source": [
    "If high-memory device availability is an issue, you can load the quantized version of the model. To load the model and the\n",
    "processor in 4bit precision, pass a `BitsAndBytesConfig` to the `from_pretrained` method and the model will be compressed\n",
    "on the fly while loading."
   ]
  },
  {
   "cell_type": "code",
   "execution_count": null,
   "metadata": {},
   "outputs": [],
   "source": [
    "import torch\n",
    "from transformers import IdeficsForVisionText2Text, AutoProcessor, BitsAndBytesConfig\n",
    "\n",
    "quantization_config = BitsAndBytesConfig(\n",
    "    load_in_4bit=True,\n",
    "    bnb_4bit_compute_dtype=torch.float16,\n",
    ")\n",
    "\n",
    "processor = AutoProcessor.from_pretrained(checkpoint)\n",
    "\n",
    "model = IdeficsForVisionText2Text.from_pretrained(\n",
    "    checkpoint,\n",
    "    quantization_config=quantization_config,\n",
    "    device_map=\"auto\"\n",
    ")"
   ]
  },
  {
   "cell_type": "markdown",
   "metadata": {},
   "source": [
    "Now that you have the model loaded in one of the suggested ways, let's move on to exploring tasks that you can use IDEFICS for."
   ]
  },
  {
   "cell_type": "markdown",
   "metadata": {},
   "source": [
    "## Image captioning"
   ]
  },
  {
   "cell_type": "markdown",
   "metadata": {},
   "source": [
    "Image captioning is the task of predicting a caption for a given image. A common application is to aid visually impaired\n",
    "people navigate through different situations, for instance, explore image content online.\n",
    "\n",
    "To illustrate the task, get an image to be captioned, e.g.:\n",
    "\n",
    "<div class=\"flex justify-center\">\n",
    "     <img src=\"https://huggingface.co/datasets/huggingface/documentation-images/resolve/main/transformers/tasks/idefics-im-captioning.jpg\" alt=\"Image of a puppy in a flower bed\"/>\n",
    "</div>\n",
    "\n",
    "Photo by [Hendo Wang](https://unsplash.com/@hendoo).\n",
    "\n",
    "IDEFICS accepts text and image prompts. However, to caption an image, you do not have to provide a text prompt to the\n",
    "model, only the preprocessed input image. Without a text prompt, the model will start generating text from the\n",
    "BOS (beginning-of-sequence) token thus creating a caption.\n",
    "\n",
    "As image input to the model, you can use either an image object (`PIL.Image`) or a url from which the image can be retrieved."
   ]
  },
  {
   "cell_type": "code",
   "execution_count": null,
   "metadata": {},
   "outputs": [
    {
     "data": {
      "text/plain": [
       "A puppy in a flower bed"
      ]
     },
     "execution_count": null,
     "metadata": {},
     "output_type": "execute_result"
    }
   ],
   "source": [
    "prompt = [\n",
    "    \"https://images.unsplash.com/photo-1583160247711-2191776b4b91?ixlib=rb-4.0.3&ixid=M3wxMjA3fDB8MHxwaG90by1wYWdlfHx8fGVufDB8fHx8fA%3D%3D&auto=format&fit=crop&w=3542&q=80\",\n",
    "]\n",
    "\n",
    "inputs = processor(prompt, return_tensors=\"pt\").to(model.device)\n",
    "bad_words_ids = processor.tokenizer([\"<image>\", \"<fake_token_around_image>\"], add_special_tokens=False).input_ids\n",
    "\n",
    "generated_ids = model.generate(**inputs, max_new_tokens=10, bad_words_ids=bad_words_ids)\n",
    "generated_text = processor.batch_decode(generated_ids, skip_special_tokens=True)\n",
    "print(generated_text[0])"
   ]
  },
  {
   "cell_type": "markdown",
   "metadata": {},
   "source": [
    "<Tip>\n",
    "\n",
    "It is a good idea to include the `bad_words_ids` in the call to `generate` to avoid errors arising when increasing\n",
    "the `max_new_tokens`: the model will want to generate a new `<image>` or `<fake_token_around_image>` token when there\n",
    "is no image being generated by the model.\n",
    "You can set it on-the-fly as in this guide, or store in the `GenerationConfig` as described in the [Text generation strategies](https://huggingface.co/docs/transformers/main/en/tasks/../generation_strategies) guide.\n",
    "</Tip>"
   ]
  },
  {
   "cell_type": "markdown",
   "metadata": {},
   "source": [
    "## Prompted image captioning"
   ]
  },
  {
   "cell_type": "markdown",
   "metadata": {},
   "source": [
    "You can extend image captioning by providing a text prompt, which the model will continue given the image. Let's take\n",
    "another image to illustrate:\n",
    "\n",
    "<div class=\"flex justify-center\">\n",
    "     <img src=\"https://huggingface.co/datasets/huggingface/documentation-images/resolve/main/transformers/tasks/idefics-prompted-im-captioning.jpg\" alt=\"Image of the Eiffel Tower at night\"/>\n",
    "</div>\n",
    "\n",
    "Photo by [Denys Nevozhai](https://unsplash.com/@dnevozhai).\n",
    "\n",
    "Textual and image prompts can be passed to the model's processor as a single list to create appropriate inputs."
   ]
  },
  {
   "cell_type": "code",
   "execution_count": null,
   "metadata": {},
   "outputs": [
    {
     "data": {
      "text/plain": [
       "This is an image of the Eiffel Tower in Paris, France."
      ]
     },
     "execution_count": null,
     "metadata": {},
     "output_type": "execute_result"
    }
   ],
   "source": [
    "prompt = [\n",
    "    \"https://images.unsplash.com/photo-1543349689-9a4d426bee8e?ixlib=rb-4.0.3&ixid=M3wxMjA3fDB8MHxwaG90by1wYWdlfHx8fGVufDB8fHx8fA%3D%3D&auto=format&fit=crop&w=3501&q=80\",\n",
    "    \"This is an image of \",\n",
    "]\n",
    "\n",
    "inputs = processor(prompt, return_tensors=\"pt\").to(model.device)\n",
    "bad_words_ids = processor.tokenizer([\"<image>\", \"<fake_token_around_image>\"], add_special_tokens=False).input_ids\n",
    "\n",
    "generated_ids = model.generate(**inputs, max_new_tokens=10, bad_words_ids=bad_words_ids)\n",
    "generated_text = processor.batch_decode(generated_ids, skip_special_tokens=True)\n",
    "print(generated_text[0])"
   ]
  },
  {
   "cell_type": "markdown",
   "metadata": {},
   "source": [
    "## Few-shot prompting"
   ]
  },
  {
   "cell_type": "markdown",
   "metadata": {},
   "source": [
    "While IDEFICS demonstrates great zero-shot results, your task may require a certain format of the caption, or come with\n",
    "other restrictions or requirements that increase task's complexity. Few-shot prompting can be used to enable in-context learning.\n",
    "By providing examples in the prompt, you can steer the model to generate results that mimic the format of given examples.\n",
    "\n",
    "Let's use the previous image of the Eiffel Tower as an example for the model and build a prompt that demonstrates to the model\n",
    "that in addition to learning what the object in an image is, we would also like to get some interesting information about it.\n",
    "Then, let's see, if we can get the same response format for an image of the Statue of Liberty:\n",
    "\n",
    "<div class=\"flex justify-center\">\n",
    "     <img src=\"https://huggingface.co/datasets/huggingface/documentation-images/resolve/main/transformers/tasks/idefics-few-shot.jpg\" alt=\"Image of the Statue of Liberty\"/>\n",
    "</div>\n",
    "\n",
    "Photo by [Juan Mayobre](https://unsplash.com/@jmayobres)."
   ]
  },
  {
   "cell_type": "code",
   "execution_count": null,
   "metadata": {},
   "outputs": [
    {
     "data": {
      "text/plain": [
       "User: Describe this image.\n",
       "Assistant: An image of the Eiffel Tower at night. Fun fact: the Eiffel Tower is the same height as an 81-storey building. \n",
       "User: Describe this image.\n",
       "Assistant: An image of the Statue of Liberty. Fun fact: the Statue of Liberty is 151 feet tall."
      ]
     },
     "execution_count": null,
     "metadata": {},
     "output_type": "execute_result"
    }
   ],
   "source": [
    "prompt = [\"User:\",\n",
    "           \"https://images.unsplash.com/photo-1543349689-9a4d426bee8e?ixlib=rb-4.0.3&ixid=M3wxMjA3fDB8MHxwaG90by1wYWdlfHx8fGVufDB8fHx8fA%3D%3D&auto=format&fit=crop&w=3501&q=80\",\n",
    "           \"Describe this image.\\nAssistant: An image of the Eiffel Tower at night. Fun fact: the Eiffel Tower is the same height as an 81-storey building.\\n\",\n",
    "           \"User:\",\n",
    "           \"https://images.unsplash.com/photo-1524099163253-32b7f0256868?ixlib=rb-4.0.3&ixid=M3wxMjA3fDB8MHxwaG90by1wYWdlfHx8fGVufDB8fHx8fA%3D%3D&auto=format&fit=crop&w=3387&q=80\",\n",
    "           \"Describe this image.\\nAssistant:\"\n",
    "           ]\n",
    "\n",
    "inputs = processor(prompt, return_tensors=\"pt\").to(model.device)\n",
    "bad_words_ids = processor.tokenizer([\"<image>\", \"<fake_token_around_image>\"], add_special_tokens=False).input_ids\n",
    "\n",
    "generated_ids = model.generate(**inputs, max_new_tokens=30, bad_words_ids=bad_words_ids)\n",
    "generated_text = processor.batch_decode(generated_ids, skip_special_tokens=True)\n",
    "print(generated_text[0])"
   ]
  },
  {
   "cell_type": "markdown",
   "metadata": {},
   "source": [
    "Notice that just from a single example (i.e., 1-shot) the model has learned how to perform the task. For more complex tasks,\n",
    "feel free to experiment with a larger number of examples (e.g., 3-shot, 5-shot, etc.)."
   ]
  },
  {
   "cell_type": "markdown",
   "metadata": {},
   "source": [
    "## Visual question answering"
   ]
  },
  {
   "cell_type": "markdown",
   "metadata": {},
   "source": [
    "Visual Question Answering (VQA) is the task of answering open-ended questions based on an image. Similar to image\n",
    "captioning it can be used in accessibility applications, but also in education (reasoning about visual materials), customer\n",
    "service (questions about products based on images), and image retrieval.\n",
    "\n",
    "Let's get a new image for this task:\n",
    "\n",
    "<div class=\"flex justify-center\">\n",
    "     <img src=\"https://huggingface.co/datasets/huggingface/documentation-images/resolve/main/transformers/tasks/idefics-vqa.jpg\" alt=\"Image of a couple having a picnic\"/>\n",
    "</div>\n",
    "\n",
    "Photo by [Jarritos Mexican Soda](https://unsplash.com/@jarritos).\n",
    "\n",
    "You can steer the model from image captioning to visual question answering by prompting it with appropriate instructions:"
   ]
  },
  {
   "cell_type": "code",
   "execution_count": null,
   "metadata": {},
   "outputs": [
    {
     "data": {
      "text/plain": [
       "Instruction: Provide an answer to the question. Use the image to answer.\n",
       " Question: Where are these people and what's the weather like? Answer: They're in a park in New York City, and it's a beautiful day."
      ]
     },
     "execution_count": null,
     "metadata": {},
     "output_type": "execute_result"
    }
   ],
   "source": [
    "prompt = [\n",
    "    \"Instruction: Provide an answer to the question. Use the image to answer.\\n\",\n",
    "    \"https://images.unsplash.com/photo-1623944889288-cd147dbb517c?ixlib=rb-4.0.3&ixid=M3wxMjA3fDB8MHxwaG90by1wYWdlfHx8fGVufDB8fHx8fA%3D%3D&auto=format&fit=crop&w=3540&q=80\",\n",
    "    \"Question: Where are these people and what's the weather like? Answer:\"\n",
    "]\n",
    "\n",
    "inputs = processor(prompt, return_tensors=\"pt\").to(model.device)\n",
    "bad_words_ids = processor.tokenizer([\"<image>\", \"<fake_token_around_image>\"], add_special_tokens=False).input_ids\n",
    "\n",
    "generated_ids = model.generate(**inputs, max_new_tokens=20, bad_words_ids=bad_words_ids)\n",
    "generated_text = processor.batch_decode(generated_ids, skip_special_tokens=True)\n",
    "print(generated_text[0])"
   ]
  },
  {
   "cell_type": "markdown",
   "metadata": {},
   "source": [
    "## Image classification"
   ]
  },
  {
   "cell_type": "markdown",
   "metadata": {},
   "source": [
    "IDEFICS is capable of classifying images into different categories without being explicitly trained on data containing\n",
    "labeled examples from those specific categories. Given a list of categories and using its image and text understanding\n",
    "capabilities, the model can infer which category the image likely belongs to.\n",
    "\n",
    "Say, we have this image of a vegetable stand:\n",
    "\n",
    "<div class=\"flex justify-center\">\n",
    "     <img src=\"https://huggingface.co/datasets/huggingface/documentation-images/resolve/main/transformers/tasks/idefics-classification.jpg\" alt=\"Image of a vegetable stand\"/>\n",
    "</div>\n",
    "\n",
    "Photo by [Peter Wendt](https://unsplash.com/@peterwendt).\n",
    "\n",
    "We can instruct the model to classify the image into one of the categories that we have:"
   ]
  },
  {
   "cell_type": "code",
   "execution_count": null,
   "metadata": {},
   "outputs": [
    {
     "data": {
      "text/plain": [
       "Instruction: Classify the following image into a single category from the following list: ['animals', 'vegetables', 'city landscape', 'cars', 'office'].\n",
       "Category: Vegetables"
      ]
     },
     "execution_count": null,
     "metadata": {},
     "output_type": "execute_result"
    }
   ],
   "source": [
    "categories = ['animals','vegetables', 'city landscape', 'cars', 'office']\n",
    "prompt = [f\"Instruction: Classify the following image into a single category from the following list: {categories}.\\n\",\n",
    "    \"https://images.unsplash.com/photo-1471193945509-9ad0617afabf?ixlib=rb-4.0.3&ixid=M3wxMjA3fDB8MHxwaG90by1wYWdlfHx8fGVufDB8fHx8fA%3D%3D&auto=format&fit=crop&w=3540&q=80\",    \n",
    "    \"Category: \"\n",
    "]\n",
    "\n",
    "inputs = processor(prompt, return_tensors=\"pt\").to(model.device)\n",
    "bad_words_ids = processor.tokenizer([\"<image>\", \"<fake_token_around_image>\"], add_special_tokens=False).input_ids\n",
    "\n",
    "generated_ids = model.generate(**inputs, max_new_tokens=6, bad_words_ids=bad_words_ids)\n",
    "generated_text = processor.batch_decode(generated_ids, skip_special_tokens=True)\n",
    "print(generated_text[0])"
   ]
  },
  {
   "cell_type": "markdown",
   "metadata": {},
   "source": [
    "In the example above we instruct the model to classify the image into a single category, however, you can also prompt the model to do rank classification."
   ]
  },
  {
   "cell_type": "markdown",
   "metadata": {},
   "source": [
    "## Image-guided text generation"
   ]
  },
  {
   "cell_type": "markdown",
   "metadata": {},
   "source": [
    "For more creative applications, you can use image-guided text generation to generate text based on an image. This can be\n",
    "useful to create descriptions of products, ads, descriptions of a scene, etc.\n",
    "\n",
    "Let's prompt IDEFICS to write a story based on a simple image of a red door:\n",
    "\n",
    "<div class=\"flex justify-center\">\n",
    "     <img src=\"https://huggingface.co/datasets/huggingface/documentation-images/resolve/main/transformers/tasks/idefics-story-generation.jpg\" alt=\"Image of a red door with a pumpkin on the steps\"/>\n",
    "</div>\n",
    "\n",
    "Photo by [Craig Tidball](https://unsplash.com/@devonshiremedia)."
   ]
  },
  {
   "cell_type": "code",
   "execution_count": null,
   "metadata": {},
   "outputs": [
    {
     "data": {
      "text/plain": [
       "Instruction: Use the image to write a story. \n",
       " Story: \n",
       "Once upon a time, there was a little girl who lived in a house with a red door.  She loved her red door.  It was the prettiest door in the whole world.\n",
       "\n",
       "One day, the little girl was playing in her yard when she noticed a man standing on her doorstep.  He was wearing a long black coat and a top hat.\n",
       "\n",
       "The little girl ran inside and told her mother about the man.\n",
       "\n",
       "Her mother said, “Don’t worry, honey.  He’s just a friendly ghost.”\n",
       "\n",
       "The little girl wasn’t sure if she believed her mother, but she went outside anyway.\n",
       "\n",
       "When she got to the door, the man was gone.\n",
       "\n",
       "The next day, the little girl was playing in her yard again when she noticed the man standing on her doorstep.\n",
       "\n",
       "He was wearing a long black coat and a top hat.\n",
       "\n",
       "The little girl ran"
      ]
     },
     "execution_count": null,
     "metadata": {},
     "output_type": "execute_result"
    }
   ],
   "source": [
    "prompt = [\"Instruction: Use the image to write a story. \\n\",\n",
    "    \"https://images.unsplash.com/photo-1517086822157-2b0358e7684a?ixlib=rb-4.0.3&ixid=M3wxMjA3fDB8MHxwaG90by1wYWdlfHx8fGVufDB8fHx8fA%3D%3D&auto=format&fit=crop&w=2203&q=80\",\n",
    "    \"Story: \\n\"]\n",
    "\n",
    "inputs = processor(prompt, return_tensors=\"pt\").to(model.device)\n",
    "bad_words_ids = processor.tokenizer([\"<image>\", \"<fake_token_around_image>\"], add_special_tokens=False).input_ids\n",
    "\n",
    "generated_ids = model.generate(**inputs, num_beams=2, max_new_tokens=200, bad_words_ids=bad_words_ids)\n",
    "generated_text = processor.batch_decode(generated_ids, skip_special_tokens=True)\n",
    "print(generated_text[0])"
   ]
  },
  {
   "cell_type": "markdown",
   "metadata": {},
   "source": [
    "Looks like IDEFICS noticed the pumpkin on the doorstep and went with a spooky Halloween story about a ghost.\n",
    "\n",
    "<Tip>\n",
    "\n",
    "For longer outputs like this, you will greatly benefit from tweaking the text generation strategy. This can help\n",
    "you significantly improve the quality of the generated output. Check out [Text generation strategies](https://huggingface.co/docs/transformers/main/en/tasks/../generation_strategies)\n",
    "to learn more.\n",
    "</Tip>"
   ]
  },
  {
   "cell_type": "markdown",
   "metadata": {},
   "source": [
    "## Running inference in batch mode"
   ]
  },
  {
   "cell_type": "markdown",
   "metadata": {},
   "source": [
    "All of the earlier sections illustrated IDEFICS for a single example. In a very similar fashion, you can run inference\n",
    "for a batch of examples by passing a list of prompts:"
   ]
  },
  {
   "cell_type": "code",
   "execution_count": null,
   "metadata": {},
   "outputs": [
    {
     "data": {
      "text/plain": [
       "0:\n",
       "This is an image of the Eiffel Tower in Paris, France.\n",
       "\n",
       "1:\n",
       "This is an image of a couple on a picnic blanket.\n",
       "\n",
       "2:\n",
       "This is an image of a vegetable stand."
      ]
     },
     "execution_count": null,
     "metadata": {},
     "output_type": "execute_result"
    }
   ],
   "source": [
    "prompts = [\n",
    "    [   \"https://images.unsplash.com/photo-1543349689-9a4d426bee8e?ixlib=rb-4.0.3&ixid=M3wxMjA3fDB8MHxwaG90by1wYWdlfHx8fGVufDB8fHx8fA%3D%3D&auto=format&fit=crop&w=3501&q=80\",\n",
    "        \"This is an image of \",\n",
    "    ],\n",
    "    [   \"https://images.unsplash.com/photo-1623944889288-cd147dbb517c?ixlib=rb-4.0.3&ixid=M3wxMjA3fDB8MHxwaG90by1wYWdlfHx8fGVufDB8fHx8fA%3D%3D&auto=format&fit=crop&w=3540&q=80\",\n",
    "        \"This is an image of \",\n",
    "    ],\n",
    "    [   \"https://images.unsplash.com/photo-1471193945509-9ad0617afabf?ixlib=rb-4.0.3&ixid=M3wxMjA3fDB8MHxwaG90by1wYWdlfHx8fGVufDB8fHx8fA%3D%3D&auto=format&fit=crop&w=3540&q=80\",\n",
    "        \"This is an image of \",\n",
    "    ],\n",
    "]\n",
    "\n",
    "inputs = processor(prompts, return_tensors=\"pt\").to(model.device)\n",
    "bad_words_ids = processor.tokenizer([\"<image>\", \"<fake_token_around_image>\"], add_special_tokens=False).input_ids\n",
    "\n",
    "generated_ids = model.generate(**inputs, max_new_tokens=10, bad_words_ids=bad_words_ids)\n",
    "generated_text = processor.batch_decode(generated_ids, skip_special_tokens=True)\n",
    "for i,t in enumerate(generated_text):\n",
    "    print(f\"{i}:\\n{t}\\n\")"
   ]
  },
  {
   "cell_type": "markdown",
   "metadata": {},
   "source": [
    "## IDEFICS instruct for conversational use"
   ]
  },
  {
   "cell_type": "markdown",
   "metadata": {},
   "source": [
    "For conversational use cases, you can find fine-tuned instructed versions of the model on the 🤗 Hub:\n",
    "`HuggingFaceM4/idefics-80b-instruct` and `HuggingFaceM4/idefics-9b-instruct`.\n",
    "\n",
    "These checkpoints are the result of fine-tuning the respective base models on a mixture of supervised and instruction\n",
    "fine-tuning datasets, which boosts the downstream performance while making the models more usable in conversational settings.\n",
    "\n",
    "The use and prompting for the conversational use is very similar to using the base models:"
   ]
  },
  {
   "cell_type": "code",
   "execution_count": null,
   "metadata": {},
   "outputs": [],
   "source": [
    "import torch\n",
    "from transformers import IdeficsForVisionText2Text, AutoProcessor\n",
    "\n",
    "checkpoint = \"HuggingFaceM4/idefics-9b-instruct\"\n",
    "model = IdeficsForVisionText2Text.from_pretrained(checkpoint, dtype=torch.bfloat16, device_map=\"auto\")\n",
    "processor = AutoProcessor.from_pretrained(checkpoint)\n",
    "\n",
    "prompts = [\n",
    "    [\n",
    "        \"User: What is in this image?\",\n",
    "        \"https://upload.wikimedia.org/wikipedia/commons/8/86/Id%C3%A9fix.JPG\",\n",
    "        \"<end_of_utterance>\",\n",
    "\n",
    "        \"\\nAssistant: This picture depicts Idefix, the dog of Obelix in Asterix and Obelix. Idefix is running on the ground.<end_of_utterance>\",\n",
    "\n",
    "        \"\\nUser:\",\n",
    "        \"https://static.wikia.nocookie.net/asterix/images/2/25/R22b.gif/revision/latest?cb=20110815073052\",\n",
    "        \"And who is that?<end_of_utterance>\",\n",
    "\n",
    "        \"\\nAssistant:\",\n",
    "    ],\n",
    "]\n",
    "\n",
    "# --batched mode\n",
    "inputs = processor(prompts, add_end_of_utterance_token=False, return_tensors=\"pt\").to(model.device)\n",
    "# --single sample mode\n",
    "# inputs = processor(prompts[0], return_tensors=\"pt\").to(model.device)\n",
    "\n",
    "# Generation args\n",
    "exit_condition = processor.tokenizer(\"<end_of_utterance>\", add_special_tokens=False).input_ids\n",
    "bad_words_ids = processor.tokenizer([\"<image>\", \"<fake_token_around_image>\"], add_special_tokens=False).input_ids\n",
    "\n",
    "generated_ids = model.generate(**inputs, eos_token_id=exit_condition, bad_words_ids=bad_words_ids, max_length=100)\n",
    "generated_text = processor.batch_decode(generated_ids, skip_special_tokens=True)\n",
    "for i, t in enumerate(generated_text):\n",
    "    print(f\"{i}:\\n{t}\\n\")"
   ]
  }
 ],
 "metadata": {},
 "nbformat": 4,
 "nbformat_minor": 4
}

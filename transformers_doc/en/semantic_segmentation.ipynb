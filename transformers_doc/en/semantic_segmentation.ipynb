{
 "cells": [
  {
   "cell_type": "code",
   "execution_count": null,
   "metadata": {},
   "outputs": [],
   "source": [
    "# Transformers installation\n",
    "! pip install transformers datasets evaluate accelerate\n",
    "# To install from source instead of the last release, comment the command above and uncomment the following one.\n",
    "# ! pip install git+https://github.com/huggingface/transformers.git"
   ]
  },
  {
   "cell_type": "markdown",
   "metadata": {},
   "source": [
    "# Image Segmentation"
   ]
  },
  {
   "cell_type": "code",
   "execution_count": null,
   "metadata": {
    "cellView": "form",
    "hide_input": true
   },
   "outputs": [
    {
     "data": {
      "text/html": [
       "<iframe width=\"560\" height=\"315\" src=\"https://www.youtube.com/embed/dKE8SIt9C-w?rel=0&amp;controls=0&amp;showinfo=0\" frameborder=\"0\" allowfullscreen></iframe>"
      ],
      "text/plain": [
       "<IPython.core.display.HTML object>"
      ]
     },
     "execution_count": null,
     "metadata": {},
     "output_type": "execute_result"
    }
   ],
   "source": [
    "#@title\n",
    "from IPython.display import HTML\n",
    "\n",
    "HTML('<iframe width=\"560\" height=\"315\" src=\"https://www.youtube.com/embed/dKE8SIt9C-w?rel=0&amp;controls=0&amp;showinfo=0\" frameborder=\"0\" allowfullscreen></iframe>')"
   ]
  },
  {
   "cell_type": "markdown",
   "metadata": {},
   "source": [
    "Image segmentation models separate areas corresponding to different areas of interest in an image. These models work by assigning a label to each pixel. There are several types of segmentation: semantic segmentation, instance segmentation, and panoptic segmentation.\n",
    "\n",
    "In this guide, we will:\n",
    "\n",
    "1. [Take a look at different types of segmentation](#types-of-segmentation).\n",
    "2. [Have an end-to-end fine-tuning example for semantic segmentation](#fine-tuning-a-model-for-segmentation).\n",
    "\n",
    "Before you begin, make sure you have all the necessary libraries installed:"
   ]
  },
  {
   "cell_type": "code",
   "execution_count": null,
   "metadata": {},
   "outputs": [],
   "source": [
    "# uncomment to install the necessary libraries\n",
    "!pip install -q datasets transformers evaluate accelerate"
   ]
  },
  {
   "cell_type": "markdown",
   "metadata": {},
   "source": [
    "We encourage you to log in to your Hugging Face account so you can upload and share your model with the community. When prompted, enter your token to log in:"
   ]
  },
  {
   "cell_type": "code",
   "execution_count": null,
   "metadata": {},
   "outputs": [],
   "source": [
    "from huggingface_hub import notebook_login\n",
    "\n",
    "notebook_login()"
   ]
  },
  {
   "cell_type": "markdown",
   "metadata": {},
   "source": [
    "## Types of Segmentation"
   ]
  },
  {
   "cell_type": "markdown",
   "metadata": {},
   "source": [
    "Semantic segmentation assigns a label or class to every single pixel in an image. Let's take a look at a semantic segmentation model output. It will assign the same class to every instance of an object it comes across in an image, for example, all cats will be labeled as \"cat\" instead of \"cat-1\", \"cat-2\".\n",
    "We can use transformers' image segmentation pipeline to quickly infer a semantic segmentation model. Let's take a look at the example image."
   ]
  },
  {
   "cell_type": "code",
   "execution_count": null,
   "metadata": {},
   "outputs": [],
   "source": [
    "from transformers import pipeline\n",
    "from PIL import Image\n",
    "import requests\n",
    "\n",
    "url = \"https://huggingface.co/datasets/huggingface/documentation-images/resolve/main/transformers/tasks/segmentation_input.jpg\"\n",
    "image = Image.open(requests.get(url, stream=True).raw)\n",
    "image"
   ]
  },
  {
   "cell_type": "markdown",
   "metadata": {},
   "source": [
    "<div class=\"flex justify-center\">\n",
    "     <img src=\"https://huggingface.co/datasets/huggingface/documentation-images/resolve/main/transformers/tasks/segmentation_input.jpg\" alt=\"Segmentation Input\"/>\n",
    "</div>\n",
    "\n",
    "We will use [nvidia/segformer-b1-finetuned-cityscapes-1024-1024](https://huggingface.co/nvidia/segformer-b1-finetuned-cityscapes-1024-1024)."
   ]
  },
  {
   "cell_type": "code",
   "execution_count": null,
   "metadata": {},
   "outputs": [],
   "source": [
    "semantic_segmentation = pipeline(\"image-segmentation\", \"nvidia/segformer-b1-finetuned-cityscapes-1024-1024\")\n",
    "results = semantic_segmentation(image)\n",
    "results"
   ]
  },
  {
   "cell_type": "markdown",
   "metadata": {},
   "source": [
    "The segmentation pipeline output includes a mask for every predicted class.\n",
    "\n",
    "```bash\n",
    "[{'score': None,\n",
    "  'label': 'road',\n",
    "  'mask': <PIL.Image.Image image mode=L size=612x415>},\n",
    " {'score': None,\n",
    "  'label': 'sidewalk',\n",
    "  'mask': <PIL.Image.Image image mode=L size=612x415>},\n",
    " {'score': None,\n",
    "  'label': 'building',\n",
    "  'mask': <PIL.Image.Image image mode=L size=612x415>},\n",
    " {'score': None,\n",
    "  'label': 'wall',\n",
    "  'mask': <PIL.Image.Image image mode=L size=612x415>},\n",
    " {'score': None,\n",
    "  'label': 'pole',\n",
    "  'mask': <PIL.Image.Image image mode=L size=612x415>},\n",
    " {'score': None,\n",
    "  'label': 'traffic sign',\n",
    "  'mask': <PIL.Image.Image image mode=L size=612x415>},\n",
    " {'score': None,\n",
    "  'label': 'vegetation',\n",
    "  'mask': <PIL.Image.Image image mode=L size=612x415>},\n",
    " {'score': None,\n",
    "  'label': 'terrain',\n",
    "  'mask': <PIL.Image.Image image mode=L size=612x415>},\n",
    " {'score': None,\n",
    "  'label': 'sky',\n",
    "  'mask': <PIL.Image.Image image mode=L size=612x415>},\n",
    " {'score': None,\n",
    "  'label': 'car',\n",
    "  'mask': <PIL.Image.Image image mode=L size=612x415>}]\n",
    "```\n",
    "\n",
    "Taking a look at the mask for the car class, we can see every car is classified with the same mask."
   ]
  },
  {
   "cell_type": "code",
   "execution_count": null,
   "metadata": {},
   "outputs": [],
   "source": [
    "results[-1][\"mask\"]"
   ]
  },
  {
   "cell_type": "markdown",
   "metadata": {},
   "source": [
    "<div class=\"flex justify-center\">\n",
    "     <img src=\"https://huggingface.co/datasets/huggingface/documentation-images/resolve/main/transformers/tasks/semantic_segmentation_output.png\" alt=\"Semantic Segmentation Output\"/>\n",
    "</div>\n",
    "\n",
    "In instance segmentation, the goal is not to classify every pixel, but to predict a mask for **every instance of an object** in a given image. It works very similar to object detection, where there is a bounding box for every instance, there's a segmentation mask instead. We will use [facebook/mask2former-swin-large-cityscapes-instance](https://huggingface.co/facebook/mask2former-swin-large-cityscapes-instance) for this."
   ]
  },
  {
   "cell_type": "code",
   "execution_count": null,
   "metadata": {},
   "outputs": [],
   "source": [
    "instance_segmentation = pipeline(\"image-segmentation\", \"facebook/mask2former-swin-large-cityscapes-instance\")\n",
    "results = instance_segmentation(image)\n",
    "results"
   ]
  },
  {
   "cell_type": "markdown",
   "metadata": {},
   "source": [
    "As you can see below, there are multiple cars classified, and there's no classification for pixels other than pixels that belong to car and person instances.\n",
    "\n",
    "```bash\n",
    "[{'score': 0.999944,\n",
    "  'label': 'car',\n",
    "  'mask': <PIL.Image.Image image mode=L size=612x415>},\n",
    " {'score': 0.999945,\n",
    "  'label': 'car',\n",
    "  'mask': <PIL.Image.Image image mode=L size=612x415>},\n",
    " {'score': 0.999652,\n",
    "  'label': 'car',\n",
    "  'mask': <PIL.Image.Image image mode=L size=612x415>},\n",
    " {'score': 0.903529,\n",
    "  'label': 'person',\n",
    "  'mask': <PIL.Image.Image image mode=L size=612x415>}]\n",
    "```\n",
    "\n",
    "Checking out one of the car masks below."
   ]
  },
  {
   "cell_type": "code",
   "execution_count": null,
   "metadata": {},
   "outputs": [],
   "source": [
    "results[2][\"mask\"]"
   ]
  },
  {
   "cell_type": "markdown",
   "metadata": {},
   "source": [
    "<div class=\"flex justify-center\">\n",
    "     <img src=\"https://huggingface.co/datasets/huggingface/documentation-images/resolve/main/transformers/tasks/instance_segmentation_output.png\" alt=\"Semantic Segmentation Output\"/>\n",
    "</div>\n",
    "\n",
    "Panoptic segmentation combines semantic segmentation and instance segmentation, where every pixel is classified into a class and an instance of that class, and there are multiple masks for each instance of a class. We can use [facebook/mask2former-swin-large-cityscapes-panoptic](https://huggingface.co/facebook/mask2former-swin-large-cityscapes-panoptic) for this."
   ]
  },
  {
   "cell_type": "code",
   "execution_count": null,
   "metadata": {},
   "outputs": [],
   "source": [
    "panoptic_segmentation = pipeline(\"image-segmentation\", \"facebook/mask2former-swin-large-cityscapes-panoptic\")\n",
    "results = panoptic_segmentation(image)\n",
    "results"
   ]
  },
  {
   "cell_type": "markdown",
   "metadata": {},
   "source": [
    "As you can see below, we have more classes. We will later illustrate to see that every pixel is classified into one of the classes.\n",
    "\n",
    "```bash\n",
    "[{'score': 0.999981,\n",
    "  'label': 'car',\n",
    "  'mask': <PIL.Image.Image image mode=L size=612x415>},\n",
    " {'score': 0.999958,\n",
    "  'label': 'car',\n",
    "  'mask': <PIL.Image.Image image mode=L size=612x415>},\n",
    " {'score': 0.99997,\n",
    "  'label': 'vegetation',\n",
    "  'mask': <PIL.Image.Image image mode=L size=612x415>},\n",
    " {'score': 0.999575,\n",
    "  'label': 'pole',\n",
    "  'mask': <PIL.Image.Image image mode=L size=612x415>},\n",
    " {'score': 0.999958,\n",
    "  'label': 'building',\n",
    "  'mask': <PIL.Image.Image image mode=L size=612x415>},\n",
    " {'score': 0.999634,\n",
    "  'label': 'road',\n",
    "  'mask': <PIL.Image.Image image mode=L size=612x415>},\n",
    " {'score': 0.996092,\n",
    "  'label': 'sidewalk',\n",
    "  'mask': <PIL.Image.Image image mode=L size=612x415>},\n",
    " {'score': 0.999221,\n",
    "  'label': 'car',\n",
    "  'mask': <PIL.Image.Image image mode=L size=612x415>},\n",
    " {'score': 0.99987,\n",
    "  'label': 'sky',\n",
    "  'mask': <PIL.Image.Image image mode=L size=612x415>}]\n",
    "```\n",
    "\n",
    "Let's have a side by side comparison for all types of segmentation.\n",
    "\n",
    "<div class=\"flex justify-center\">\n",
    "     <img src=\"https://huggingface.co/datasets/huggingface/documentation-images/resolve/main/transformers/tasks/segmentation-comparison.png\" alt=\"Segmentation Maps Compared\"/>\n",
    "</div>\n",
    "\n",
    "Seeing all types of segmentation, let's have a deep dive on fine-tuning a model for semantic segmentation.\n",
    "\n",
    "Common real-world applications of semantic segmentation include training self-driving cars to identify pedestrians and important traffic information, identifying cells and abnormalities in medical imagery, and monitoring environmental changes from satellite imagery."
   ]
  },
  {
   "cell_type": "markdown",
   "metadata": {},
   "source": [
    "## Fine-tuning a Model for Segmentation"
   ]
  },
  {
   "cell_type": "markdown",
   "metadata": {},
   "source": [
    "We will now:\n",
    "\n",
    "1. Finetune [SegFormer](https://huggingface.co/docs/transformers/main/en/model_doc/segformer#segformer) on the [SceneParse150](https://huggingface.co/datasets/scene_parse_150) dataset.\n",
    "2. Use your fine-tuned model for inference.\n",
    "\n",
    "<Tip>\n",
    "\n",
    "To see all architectures and checkpoints compatible with this task, we recommend checking the [task-page](https://huggingface.co/tasks/image-segmentation)\n",
    "\n",
    "</Tip>"
   ]
  },
  {
   "cell_type": "markdown",
   "metadata": {},
   "source": [
    "### Load SceneParse150 dataset"
   ]
  },
  {
   "cell_type": "markdown",
   "metadata": {},
   "source": [
    "Start by loading a smaller subset of the SceneParse150 dataset from the 🤗 Datasets library. This'll give you a chance to experiment and make sure everything works before spending more time training on the full dataset."
   ]
  },
  {
   "cell_type": "code",
   "execution_count": null,
   "metadata": {},
   "outputs": [],
   "source": [
    "from datasets import load_dataset\n",
    "\n",
    "ds = load_dataset(\"scene_parse_150\", split=\"train[:50]\")"
   ]
  },
  {
   "cell_type": "markdown",
   "metadata": {},
   "source": [
    "Split the dataset's `train` split into a train and test set with the [train_test_split](https://huggingface.co/docs/datasets/main/en/package_reference/main_classes#datasets.Dataset.train_test_split) method:"
   ]
  },
  {
   "cell_type": "code",
   "execution_count": null,
   "metadata": {},
   "outputs": [],
   "source": [
    "ds = ds.train_test_split(test_size=0.2)\n",
    "train_ds = ds[\"train\"]\n",
    "test_ds = ds[\"test\"]"
   ]
  },
  {
   "cell_type": "markdown",
   "metadata": {},
   "source": [
    "Then take a look at an example:"
   ]
  },
  {
   "cell_type": "code",
   "execution_count": null,
   "metadata": {},
   "outputs": [
    {
     "data": {
      "text/plain": [
       "{'image': <PIL.JpegImagePlugin.JpegImageFile image mode=RGB size=512x683 at 0x7F9B0C201F90>,\n",
       " 'annotation': <PIL.PngImagePlugin.PngImageFile image mode=L size=512x683 at 0x7F9B0C201DD0>,\n",
       " 'scene_category': 368}\n",
       "\n",
       "# view the image"
      ]
     },
     "execution_count": null,
     "metadata": {},
     "output_type": "execute_result"
    }
   ],
   "source": [
    "train_ds[0]"
   ]
  },
  {
   "cell_type": "code",
   "execution_count": null,
   "metadata": {},
   "outputs": [],
   "source": [
    "train_ds[0][\"image\"]"
   ]
  },
  {
   "cell_type": "markdown",
   "metadata": {},
   "source": [
    "- `image`: a PIL image of the scene.\n",
    "- `annotation`: a PIL image of the segmentation map, which is also the model's target.\n",
    "- `scene_category`: a category id that describes the image scene like \"kitchen\" or \"office\". In this guide, you'll only need `image` and `annotation`, both of which are PIL images.\n",
    "\n",
    "You'll also want to create a dictionary that maps a label id to a label class which will be useful when you set up the model later. Download the mappings from the Hub and create the `id2label` and `label2id` dictionaries:"
   ]
  },
  {
   "cell_type": "code",
   "execution_count": null,
   "metadata": {},
   "outputs": [],
   "source": [
    "import json\n",
    "from pathlib import Path\n",
    "from huggingface_hub import hf_hub_download\n",
    "\n",
    "repo_id = \"huggingface/label-files\"\n",
    "filename = \"ade20k-id2label.json\"\n",
    "id2label = json.loads(Path(hf_hub_download(repo_id, filename, repo_type=\"dataset\")).read_text())\n",
    "id2label = {int(k): v for k, v in id2label.items()}\n",
    "label2id = {v: k for k, v in id2label.items()}\n",
    "num_labels = len(id2label)"
   ]
  },
  {
   "cell_type": "markdown",
   "metadata": {},
   "source": [
    "#### Custom dataset"
   ]
  },
  {
   "cell_type": "markdown",
   "metadata": {},
   "source": [
    "You could also create and use your own dataset if you prefer to train with the [run_semantic_segmentation.py](https://github.com/huggingface/transformers/blob/main/examples/pytorch/semantic-segmentation/run_semantic_segmentation.py) script instead of a notebook instance. The script requires:\n",
    "\n",
    "1. a [DatasetDict](https://huggingface.co/docs/datasets/main/en/package_reference/main_classes#datasets.DatasetDict) with two [Image](https://huggingface.co/docs/datasets/main/en/package_reference/main_classes#datasets.Image) columns, \"image\" and \"label\"\n",
    "\n",
    "     ```py\n",
    "     from datasets import Dataset, DatasetDict, Image\n",
    "\n",
    "     image_paths_train = [\"path/to/image_1.jpg/jpg\", \"path/to/image_2.jpg/jpg\", ..., \"path/to/image_n.jpg/jpg\"]\n",
    "     label_paths_train = [\"path/to/annotation_1.png\", \"path/to/annotation_2.png\", ..., \"path/to/annotation_n.png\"]\n",
    "\n",
    "     image_paths_validation = [...]\n",
    "     label_paths_validation = [...]\n",
    "\n",
    "     def create_dataset(image_paths, label_paths):\n",
    "         dataset = Dataset.from_dict({\"image\": sorted(image_paths),\n",
    "                                     \"label\": sorted(label_paths)})\n",
    "         dataset = dataset.cast_column(\"image\", Image())\n",
    "         dataset = dataset.cast_column(\"label\", Image())\n",
    "         return dataset\n",
    "\n",
    "     # step 1: create Dataset objects\n",
    "     train_dataset = create_dataset(image_paths_train, label_paths_train)\n",
    "     validation_dataset = create_dataset(image_paths_validation, label_paths_validation)\n",
    "\n",
    "     # step 2: create DatasetDict\n",
    "     dataset = DatasetDict({\n",
    "          \"train\": train_dataset,\n",
    "          \"validation\": validation_dataset,\n",
    "          }\n",
    "     )\n",
    "\n",
    "     # step 3: push to Hub (assumes you have ran the hf auth login command in a terminal/notebook)\n",
    "     dataset.push_to_hub(\"your-name/dataset-repo\")\n",
    "\n",
    "     # optionally, you can push to a private repo on the Hub\n",
    "     # dataset.push_to_hub(\"name of repo on the hub\", private=True)\n",
    "     ```\n",
    "\n",
    "2. an id2label dictionary mapping the class integers to their class names\n",
    "\n",
    "     ```py\n",
    "     import json\n",
    "     # simple example\n",
    "     id2label = {0: 'cat', 1: 'dog'}\n",
    "     with open('id2label.json', 'w') as fp:\n",
    "     json.dump(id2label, fp)\n",
    "     ```\n",
    "\n",
    "As an example, take a look at this [example dataset](https://huggingface.co/datasets/nielsr/ade20k-demo) which was created with the steps shown above."
   ]
  },
  {
   "cell_type": "markdown",
   "metadata": {},
   "source": [
    "### Preprocess"
   ]
  },
  {
   "cell_type": "markdown",
   "metadata": {},
   "source": [
    "The next step is to load a SegFormer image processor to prepare the images and annotations for the model. Some datasets, like this one, use the zero-index as the background class. However, the background class isn't actually included in the 150 classes, so you'll need to set `do_reduce_labels=True` to subtract one from all the labels. The zero-index is replaced by `255` so it's ignored by SegFormer's loss function:"
   ]
  },
  {
   "cell_type": "code",
   "execution_count": null,
   "metadata": {},
   "outputs": [],
   "source": [
    "from transformers import AutoImageProcessor\n",
    "\n",
    "checkpoint = \"nvidia/mit-b0\"\n",
    "image_processor = AutoImageProcessor.from_pretrained(checkpoint, do_reduce_labels=True)"
   ]
  },
  {
   "cell_type": "markdown",
   "metadata": {},
   "source": [
    "It is common to apply some data augmentations to an image dataset to make a model more robust against overfitting. In this guide, you'll use the [`ColorJitter`](https://pytorch.org/vision/stable/generated/torchvision.transforms.ColorJitter.html) function from [torchvision](https://pytorch.org/vision/stable/index.html) to randomly change the color properties of an image, but you can also use any image library you like."
   ]
  },
  {
   "cell_type": "code",
   "execution_count": null,
   "metadata": {},
   "outputs": [],
   "source": [
    "from torchvision.transforms import ColorJitter\n",
    "\n",
    "jitter = ColorJitter(brightness=0.25, contrast=0.25, saturation=0.25, hue=0.1)"
   ]
  },
  {
   "cell_type": "markdown",
   "metadata": {},
   "source": [
    "Now create two preprocessing functions to prepare the images and annotations for the model. These functions convert the images into `pixel_values` and annotations to `labels`. For the training set, `jitter` is applied before providing the images to the image processor. For the test set, the image processor crops and normalizes the `images`, and only crops the `labels` because no data augmentation is applied during testing."
   ]
  },
  {
   "cell_type": "code",
   "execution_count": null,
   "metadata": {},
   "outputs": [],
   "source": [
    "def train_transforms(example_batch):\n",
    "    images = [jitter(x) for x in example_batch[\"image\"]]\n",
    "    labels = [x for x in example_batch[\"annotation\"]]\n",
    "    inputs = image_processor(images, labels)\n",
    "    return inputs\n",
    "\n",
    "\n",
    "def val_transforms(example_batch):\n",
    "    images = [x for x in example_batch[\"image\"]]\n",
    "    labels = [x for x in example_batch[\"annotation\"]]\n",
    "    inputs = image_processor(images, labels)\n",
    "    return inputs"
   ]
  },
  {
   "cell_type": "markdown",
   "metadata": {},
   "source": [
    "To apply the `jitter` over the entire dataset, use the 🤗 Datasets [set_transform](https://huggingface.co/docs/datasets/main/en/package_reference/main_classes#datasets.Dataset.set_transform) function. The transform is applied on the fly which is faster and consumes less disk space:"
   ]
  },
  {
   "cell_type": "code",
   "execution_count": null,
   "metadata": {},
   "outputs": [],
   "source": [
    "train_ds.set_transform(train_transforms)\n",
    "test_ds.set_transform(val_transforms)"
   ]
  },
  {
   "cell_type": "markdown",
   "metadata": {},
   "source": [
    "### Evaluate"
   ]
  },
  {
   "cell_type": "markdown",
   "metadata": {},
   "source": [
    "Including a metric during training is often helpful for evaluating your model's performance. You can quickly load an evaluation method with the 🤗 [Evaluate](https://huggingface.co/docs/evaluate/index) library. For this task, load the [mean Intersection over Union](https://huggingface.co/spaces/evaluate-metric/accuracy) (IoU) metric (see the 🤗 Evaluate [quick tour](https://huggingface.co/docs/evaluate/a_quick_tour) to learn more about how to load and compute a metric):"
   ]
  },
  {
   "cell_type": "code",
   "execution_count": null,
   "metadata": {},
   "outputs": [],
   "source": [
    "import evaluate\n",
    "\n",
    "metric = evaluate.load(\"mean_iou\")"
   ]
  },
  {
   "cell_type": "markdown",
   "metadata": {},
   "source": [
    "Then create a function to [compute](https://huggingface.co/docs/evaluate/main/en/package_reference/main_classes#evaluate.EvaluationModule.compute) the metrics. Your predictions need to be converted to\n",
    "logits first, and then reshaped to match the size of the labels before you can call [compute](https://huggingface.co/docs/evaluate/main/en/package_reference/main_classes#evaluate.EvaluationModule.compute):"
   ]
  },
  {
   "cell_type": "code",
   "execution_count": null,
   "metadata": {},
   "outputs": [],
   "source": [
    "import numpy as np\n",
    "import torch\n",
    "from torch import nn\n",
    "\n",
    "def compute_metrics(eval_pred):\n",
    "    with torch.no_grad():\n",
    "        logits, labels = eval_pred\n",
    "        logits_tensor = torch.from_numpy(logits)\n",
    "        logits_tensor = nn.functional.interpolate(\n",
    "            logits_tensor,\n",
    "            size=labels.shape[-2:],\n",
    "            mode=\"bilinear\",\n",
    "            align_corners=False,\n",
    "        ).argmax(dim=1)\n",
    "\n",
    "        pred_labels = logits_tensor.detach().cpu().numpy()\n",
    "        metrics = metric.compute(\n",
    "            predictions=pred_labels,\n",
    "            references=labels,\n",
    "            num_labels=num_labels,\n",
    "            ignore_index=255,\n",
    "            reduce_labels=False,\n",
    "        )\n",
    "        for key, value in metrics.items():\n",
    "            if isinstance(value, np.ndarray):\n",
    "                metrics[key] = value.tolist()\n",
    "        return metrics"
   ]
  },
  {
   "cell_type": "markdown",
   "metadata": {},
   "source": [
    "Your `compute_metrics` function is ready to go now, and you'll return to it when you setup your training."
   ]
  },
  {
   "cell_type": "markdown",
   "metadata": {},
   "source": [
    "### Train"
   ]
  },
  {
   "cell_type": "markdown",
   "metadata": {},
   "source": [
    "<Tip>\n",
    "\n",
    "If you aren't familiar with finetuning a model with the [Trainer](https://huggingface.co/docs/transformers/main/en/main_classes/trainer#transformers.Trainer), take a look at the basic tutorial [here](https://huggingface.co/docs/transformers/main/en/tasks/../training#finetune-with-trainer)!\n",
    "\n",
    "</Tip>\n",
    "\n",
    "You're ready to start training your model now! Load SegFormer with [AutoModelForSemanticSegmentation](https://huggingface.co/docs/transformers/main/en/model_doc/auto#transformers.AutoModelForSemanticSegmentation), and pass the model the mapping between label ids and label classes:"
   ]
  },
  {
   "cell_type": "code",
   "execution_count": null,
   "metadata": {},
   "outputs": [],
   "source": [
    "from transformers import AutoModelForSemanticSegmentation, TrainingArguments, Trainer\n",
    "\n",
    "model = AutoModelForSemanticSegmentation.from_pretrained(checkpoint, id2label=id2label, label2id=label2id)"
   ]
  },
  {
   "cell_type": "markdown",
   "metadata": {},
   "source": [
    "At this point, only three steps remain:\n",
    "\n",
    "1. Define your training hyperparameters in [TrainingArguments](https://huggingface.co/docs/transformers/main/en/main_classes/trainer#transformers.TrainingArguments). It is important you don't remove unused columns because this'll drop the `image` column. Without the `image` column, you can't create `pixel_values`. Set `remove_unused_columns=False` to prevent this behavior! The only other required parameter is `output_dir` which specifies where to save your model. You'll push this model to the Hub by setting `push_to_hub=True` (you need to be signed in to Hugging Face to upload your model). At the end of each epoch, the [Trainer](https://huggingface.co/docs/transformers/main/en/main_classes/trainer#transformers.Trainer) will evaluate the IoU metric and save the training checkpoint.\n",
    "2. Pass the training arguments to [Trainer](https://huggingface.co/docs/transformers/main/en/main_classes/trainer#transformers.Trainer) along with the model, dataset, tokenizer, data collator, and `compute_metrics` function.\n",
    "3. Call [train()](https://huggingface.co/docs/transformers/main/en/main_classes/trainer#transformers.Trainer.train) to finetune your model."
   ]
  },
  {
   "cell_type": "code",
   "execution_count": null,
   "metadata": {},
   "outputs": [],
   "source": [
    "training_args = TrainingArguments(\n",
    "    output_dir=\"segformer-b0-scene-parse-150\",\n",
    "    learning_rate=6e-5,\n",
    "    num_train_epochs=50,\n",
    "    per_device_train_batch_size=2,\n",
    "    per_device_eval_batch_size=2,\n",
    "    save_total_limit=3,\n",
    "    eval_strategy=\"steps\",\n",
    "    save_strategy=\"steps\",\n",
    "    save_steps=20,\n",
    "    eval_steps=20,\n",
    "    logging_steps=1,\n",
    "    eval_accumulation_steps=5,\n",
    "    remove_unused_columns=False,\n",
    "    push_to_hub=True,\n",
    ")\n",
    "\n",
    "trainer = Trainer(\n",
    "    model=model,\n",
    "    args=training_args,\n",
    "    train_dataset=train_ds,\n",
    "    eval_dataset=test_ds,\n",
    "    compute_metrics=compute_metrics,\n",
    ")\n",
    "\n",
    "trainer.train()"
   ]
  },
  {
   "cell_type": "markdown",
   "metadata": {},
   "source": [
    "Once training is completed, share your model to the Hub with the [push_to_hub()](https://huggingface.co/docs/transformers/main/en/main_classes/trainer#transformers.Trainer.push_to_hub) method so everyone can use your model:"
   ]
  },
  {
   "cell_type": "code",
   "execution_count": null,
   "metadata": {},
   "outputs": [],
   "source": [
    "trainer.push_to_hub()"
   ]
  },
  {
   "cell_type": "markdown",
   "metadata": {},
   "source": [
    "### Inference"
   ]
  },
  {
   "cell_type": "markdown",
   "metadata": {},
   "source": [
    "Great, now that you've finetuned a model, you can use it for inference!\n",
    "\n",
    "Reload the dataset and load an image for inference."
   ]
  },
  {
   "cell_type": "code",
   "execution_count": null,
   "metadata": {},
   "outputs": [],
   "source": [
    "from datasets import load_dataset\n",
    "\n",
    "ds = load_dataset(\"scene_parse_150\", split=\"train[:50]\")\n",
    "ds = ds.train_test_split(test_size=0.2)\n",
    "test_ds = ds[\"test\"]\n",
    "image = ds[\"test\"][0][\"image\"]\n",
    "image"
   ]
  },
  {
   "cell_type": "markdown",
   "metadata": {},
   "source": [
    "<div class=\"flex justify-center\">\n",
    "    <img src=\"https://huggingface.co/datasets/huggingface/documentation-images/resolve/main/semantic-seg-image.png\" alt=\"Image of bedroom\"/>\n",
    "</div>\n",
    "\n",
    "We will now see how to infer without a pipeline. Process the image with an image processor and place the `pixel_values` on a GPU:"
   ]
  },
  {
   "cell_type": "code",
   "execution_count": null,
   "metadata": {},
   "outputs": [],
   "source": [
    "from accelerate import Accelerator\n",
    "device = Accelerator().device\n",
    "encoding = image_processor(image, return_tensors=\"pt\")\n",
    "pixel_values = encoding.pixel_values.to(device)"
   ]
  },
  {
   "cell_type": "markdown",
   "metadata": {},
   "source": [
    "Pass your input to the model and return the `logits`:"
   ]
  },
  {
   "cell_type": "code",
   "execution_count": null,
   "metadata": {},
   "outputs": [],
   "source": [
    "outputs = model(pixel_values=pixel_values)\n",
    "logits = outputs.logits.cpu()"
   ]
  },
  {
   "cell_type": "markdown",
   "metadata": {},
   "source": [
    "Next, rescale the logits to the original image size:"
   ]
  },
  {
   "cell_type": "code",
   "execution_count": null,
   "metadata": {},
   "outputs": [],
   "source": [
    "upsampled_logits = nn.functional.interpolate(\n",
    "    logits,\n",
    "    size=image.size[::-1],\n",
    "    mode=\"bilinear\",\n",
    "    align_corners=False,\n",
    ")\n",
    "\n",
    "pred_seg = upsampled_logits.argmax(dim=1)[0]"
   ]
  },
  {
   "cell_type": "markdown",
   "metadata": {},
   "source": [
    "To visualize the results, load the [dataset color palette](https://github.com/tensorflow/models/blob/3f1ca33afe3c1631b733ea7e40c294273b9e406d/research/deeplab/utils/get_dataset_colormap.py#L51) as `ade_palette()` that maps each class to their RGB values."
   ]
  },
  {
   "cell_type": "code",
   "execution_count": null,
   "metadata": {},
   "outputs": [],
   "source": [
    "def ade_palette():\n",
    "  return np.asarray([\n",
    "      [0, 0, 0],\n",
    "      [120, 120, 120],\n",
    "      [180, 120, 120],\n",
    "      [6, 230, 230],\n",
    "      [80, 50, 50],\n",
    "      [4, 200, 3],\n",
    "      [120, 120, 80],\n",
    "      [140, 140, 140],\n",
    "      [204, 5, 255],\n",
    "      [230, 230, 230],\n",
    "      [4, 250, 7],\n",
    "      [224, 5, 255],\n",
    "      [235, 255, 7],\n",
    "      [150, 5, 61],\n",
    "      [120, 120, 70],\n",
    "      [8, 255, 51],\n",
    "      [255, 6, 82],\n",
    "      [143, 255, 140],\n",
    "      [204, 255, 4],\n",
    "      [255, 51, 7],\n",
    "      [204, 70, 3],\n",
    "      [0, 102, 200],\n",
    "      [61, 230, 250],\n",
    "      [255, 6, 51],\n",
    "      [11, 102, 255],\n",
    "      [255, 7, 71],\n",
    "      [255, 9, 224],\n",
    "      [9, 7, 230],\n",
    "      [220, 220, 220],\n",
    "      [255, 9, 92],\n",
    "      [112, 9, 255],\n",
    "      [8, 255, 214],\n",
    "      [7, 255, 224],\n",
    "      [255, 184, 6],\n",
    "      [10, 255, 71],\n",
    "      [255, 41, 10],\n",
    "      [7, 255, 255],\n",
    "      [224, 255, 8],\n",
    "      [102, 8, 255],\n",
    "      [255, 61, 6],\n",
    "      [255, 194, 7],\n",
    "      [255, 122, 8],\n",
    "      [0, 255, 20],\n",
    "      [255, 8, 41],\n",
    "      [255, 5, 153],\n",
    "      [6, 51, 255],\n",
    "      [235, 12, 255],\n",
    "      [160, 150, 20],\n",
    "      [0, 163, 255],\n",
    "      [140, 140, 140],\n",
    "      [250, 10, 15],\n",
    "      [20, 255, 0],\n",
    "      [31, 255, 0],\n",
    "      [255, 31, 0],\n",
    "      [255, 224, 0],\n",
    "      [153, 255, 0],\n",
    "      [0, 0, 255],\n",
    "      [255, 71, 0],\n",
    "      [0, 235, 255],\n",
    "      [0, 173, 255],\n",
    "      [31, 0, 255],\n",
    "      [11, 200, 200],\n",
    "      [255, 82, 0],\n",
    "      [0, 255, 245],\n",
    "      [0, 61, 255],\n",
    "      [0, 255, 112],\n",
    "      [0, 255, 133],\n",
    "      [255, 0, 0],\n",
    "      [255, 163, 0],\n",
    "      [255, 102, 0],\n",
    "      [194, 255, 0],\n",
    "      [0, 143, 255],\n",
    "      [51, 255, 0],\n",
    "      [0, 82, 255],\n",
    "      [0, 255, 41],\n",
    "      [0, 255, 173],\n",
    "      [10, 0, 255],\n",
    "      [173, 255, 0],\n",
    "      [0, 255, 153],\n",
    "      [255, 92, 0],\n",
    "      [255, 0, 255],\n",
    "      [255, 0, 245],\n",
    "      [255, 0, 102],\n",
    "      [255, 173, 0],\n",
    "      [255, 0, 20],\n",
    "      [255, 184, 184],\n",
    "      [0, 31, 255],\n",
    "      [0, 255, 61],\n",
    "      [0, 71, 255],\n",
    "      [255, 0, 204],\n",
    "      [0, 255, 194],\n",
    "      [0, 255, 82],\n",
    "      [0, 10, 255],\n",
    "      [0, 112, 255],\n",
    "      [51, 0, 255],\n",
    "      [0, 194, 255],\n",
    "      [0, 122, 255],\n",
    "      [0, 255, 163],\n",
    "      [255, 153, 0],\n",
    "      [0, 255, 10],\n",
    "      [255, 112, 0],\n",
    "      [143, 255, 0],\n",
    "      [82, 0, 255],\n",
    "      [163, 255, 0],\n",
    "      [255, 235, 0],\n",
    "      [8, 184, 170],\n",
    "      [133, 0, 255],\n",
    "      [0, 255, 92],\n",
    "      [184, 0, 255],\n",
    "      [255, 0, 31],\n",
    "      [0, 184, 255],\n",
    "      [0, 214, 255],\n",
    "      [255, 0, 112],\n",
    "      [92, 255, 0],\n",
    "      [0, 224, 255],\n",
    "      [112, 224, 255],\n",
    "      [70, 184, 160],\n",
    "      [163, 0, 255],\n",
    "      [153, 0, 255],\n",
    "      [71, 255, 0],\n",
    "      [255, 0, 163],\n",
    "      [255, 204, 0],\n",
    "      [255, 0, 143],\n",
    "      [0, 255, 235],\n",
    "      [133, 255, 0],\n",
    "      [255, 0, 235],\n",
    "      [245, 0, 255],\n",
    "      [255, 0, 122],\n",
    "      [255, 245, 0],\n",
    "      [10, 190, 212],\n",
    "      [214, 255, 0],\n",
    "      [0, 204, 255],\n",
    "      [20, 0, 255],\n",
    "      [255, 255, 0],\n",
    "      [0, 153, 255],\n",
    "      [0, 41, 255],\n",
    "      [0, 255, 204],\n",
    "      [41, 0, 255],\n",
    "      [41, 255, 0],\n",
    "      [173, 0, 255],\n",
    "      [0, 245, 255],\n",
    "      [71, 0, 255],\n",
    "      [122, 0, 255],\n",
    "      [0, 255, 184],\n",
    "      [0, 92, 255],\n",
    "      [184, 255, 0],\n",
    "      [0, 133, 255],\n",
    "      [255, 214, 0],\n",
    "      [25, 194, 194],\n",
    "      [102, 255, 0],\n",
    "      [92, 0, 255],\n",
    "  ])"
   ]
  },
  {
   "cell_type": "markdown",
   "metadata": {},
   "source": [
    "Then you can combine and plot your image and the predicted segmentation map:"
   ]
  },
  {
   "cell_type": "code",
   "execution_count": null,
   "metadata": {},
   "outputs": [],
   "source": [
    "import matplotlib.pyplot as plt\n",
    "import numpy as np\n",
    "\n",
    "color_seg = np.zeros((pred_seg.shape[0], pred_seg.shape[1], 3), dtype=np.uint8)\n",
    "palette = np.array(ade_palette())\n",
    "for label, color in enumerate(palette):\n",
    "    color_seg[pred_seg == label, :] = color\n",
    "color_seg = color_seg[..., ::-1]  # convert to BGR\n",
    "\n",
    "img = np.array(image) * 0.5 + color_seg * 0.5  # plot the image with the segmentation map\n",
    "img = img.astype(np.uint8)\n",
    "\n",
    "plt.figure(figsize=(15, 10))\n",
    "plt.imshow(img)\n",
    "plt.show()"
   ]
  },
  {
   "cell_type": "markdown",
   "metadata": {},
   "source": [
    "<div class=\"flex justify-center\">\n",
    "    <img src=\"https://huggingface.co/datasets/huggingface/documentation-images/resolve/main/semantic-seg-preds.png\" alt=\"Image of bedroom overlaid with segmentation map\"/>\n",
    "</div>"
   ]
  }
 ],
 "metadata": {},
 "nbformat": 4,
 "nbformat_minor": 4
}

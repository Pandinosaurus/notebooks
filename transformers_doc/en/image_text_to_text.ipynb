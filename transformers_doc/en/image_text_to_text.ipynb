{
 "cells": [
  {
   "cell_type": "code",
   "execution_count": null,
   "metadata": {},
   "outputs": [],
   "source": [
    "# Transformers installation\n",
    "! pip install transformers datasets evaluate accelerate\n",
    "# To install from source instead of the last release, comment the command above and uncomment the following one.\n",
    "# ! pip install git+https://github.com/huggingface/transformers.git"
   ]
  },
  {
   "cell_type": "markdown",
   "metadata": {},
   "source": [
    "# Image-text-to-text"
   ]
  },
  {
   "cell_type": "markdown",
   "metadata": {},
   "source": [
    "Image-text-to-text models, also known as vision language models (VLMs), are language models that take an image input. These models can tackle various tasks, from visual question answering to image segmentation. This task shares many similarities with image-to-text, but with some overlapping use cases like image captioning. Image-to-text models only take image inputs and often accomplish a specific task, whereas VLMs take open-ended text and image inputs and are more generalist models.\n",
    "\n",
    "In this guide, we provide a brief overview of VLMs and show how to use them with Transformers for inference.\n",
    "\n",
    "To begin with, there are multiple types of VLMs:\n",
    "\n",
    "- base models used for fine-tuning\n",
    "- chat fine-tuned models for conversation\n",
    "- instruction fine-tuned models\n",
    "\n",
    "This guide focuses on inference with an instruction-tuned model.\n",
    "\n",
    "Let's begin installing the dependencies.\n",
    "\n",
    "```bash\n",
    "pip install -q transformers accelerate flash_attn\n",
    "```\n",
    "\n",
    "Let's initialize the model and the processor."
   ]
  },
  {
   "cell_type": "code",
   "execution_count": null,
   "metadata": {},
   "outputs": [],
   "source": [
    "from transformers import AutoProcessor, AutoModelForImageTextToText\n",
    "from accelerate import Accelerator\n",
    "import torch\n",
    "\n",
    "device = Accelerator().device\n",
    "model = AutoModelForImageTextToText.from_pretrained(\n",
    "    \"HuggingFaceM4/idefics2-8b\",\n",
    "    dtype=torch.bfloat16,\n",
    "    attn_implementation=\"flash_attention_2\",\n",
    ").to(device)\n",
    "\n",
    "processor = AutoProcessor.from_pretrained(\"HuggingFaceM4/idefics2-8b\")"
   ]
  },
  {
   "cell_type": "markdown",
   "metadata": {},
   "source": [
    "This model has a [chat template](https://huggingface.co/docs/transformers/main/en/tasks/./chat_templating) that helps user parse chat outputs. Moreover, the model can also accept multiple images as input in a single conversation or message. We will now prepare the inputs.\n",
    "\n",
    "The image inputs look like the following.\n",
    "\n",
    "<div class=\"flex justify-center\">\n",
    "     <img src=\"https://huggingface.co/datasets/huggingface/documentation-images/resolve/main/cats.png\" alt=\"Two cats sitting on a net\"/>\n",
    "</div>\n",
    "\n",
    "<div class=\"flex justify-center\">\n",
    "     <img src=\"https://huggingface.co/datasets/huggingface/documentation-images/resolve/main/bee.jpg\" alt=\"A bee on a pink flower\"/>\n",
    "</div>"
   ]
  },
  {
   "cell_type": "code",
   "execution_count": null,
   "metadata": {},
   "outputs": [],
   "source": [
    "from PIL import Image\n",
    "import requests\n",
    "\n",
    "img_urls =[\"https://huggingface.co/datasets/huggingface/documentation-images/resolve/main/cats.png\",\n",
    "           \"https://huggingface.co/datasets/huggingface/documentation-images/resolve/main/bee.jpg\"]\n",
    "images = [Image.open(requests.get(img_urls[0], stream=True).raw),\n",
    "          Image.open(requests.get(img_urls[1], stream=True).raw)]"
   ]
  },
  {
   "cell_type": "markdown",
   "metadata": {},
   "source": [
    "Below is an example of the chat template. We can feed conversation turns and the last message as an input by appending it at the end of the template."
   ]
  },
  {
   "cell_type": "code",
   "execution_count": null,
   "metadata": {},
   "outputs": [],
   "source": [
    "messages = [\n",
    "    {\n",
    "        \"role\": \"user\",\n",
    "        \"content\": [\n",
    "            {\"type\": \"image\"},\n",
    "            {\"type\": \"text\", \"text\": \"What do we see in this image?\"},\n",
    "        ]\n",
    "    },\n",
    "    {\n",
    "        \"role\": \"assistant\",\n",
    "        \"content\": [\n",
    "            {\"type\": \"text\", \"text\": \"In this image we can see two cats on the nets.\"},\n",
    "        ]\n",
    "    },\n",
    "    {\n",
    "        \"role\": \"user\",\n",
    "        \"content\": [\n",
    "            {\"type\": \"image\"},\n",
    "            {\"type\": \"text\", \"text\": \"And how about this image?\"},\n",
    "        ]\n",
    "    },\n",
    "]"
   ]
  },
  {
   "cell_type": "markdown",
   "metadata": {},
   "source": [
    "We will now call the processors' [apply_chat_template()](https://huggingface.co/docs/transformers/main/en/main_classes/processors#transformers.ProcessorMixin.apply_chat_template) method to preprocess its output along with the image inputs."
   ]
  },
  {
   "cell_type": "code",
   "execution_count": null,
   "metadata": {},
   "outputs": [],
   "source": [
    "prompt = processor.apply_chat_template(messages, add_generation_prompt=True)\n",
    "inputs = processor(text=prompt, images=[images[0], images[1]], return_tensors=\"pt\").to(device)"
   ]
  },
  {
   "cell_type": "markdown",
   "metadata": {},
   "source": [
    "We can now pass the preprocessed inputs to the model."
   ]
  },
  {
   "cell_type": "code",
   "execution_count": null,
   "metadata": {},
   "outputs": [],
   "source": [
    "with torch.no_grad():\n",
    "    generated_ids = model.generate(**inputs, max_new_tokens=500)\n",
    "generated_texts = processor.batch_decode(generated_ids, skip_special_tokens=True)\n",
    "\n",
    "print(generated_texts)\n",
    "## ['User: What do we see in this image? \\nAssistant: In this image we can see two cats on the nets. \\nUser: And how about this image? \\nAssistant: In this image we can see flowers, plants and insect.']"
   ]
  },
  {
   "cell_type": "markdown",
   "metadata": {},
   "source": [
    "## Pipeline"
   ]
  },
  {
   "cell_type": "markdown",
   "metadata": {},
   "source": [
    "The fastest way to get started is to use the [Pipeline](https://huggingface.co/docs/transformers/main/en/main_classes/pipelines#transformers.Pipeline) API. Specify the `\"image-text-to-text\"` task and the model you want to use."
   ]
  },
  {
   "cell_type": "code",
   "execution_count": null,
   "metadata": {},
   "outputs": [],
   "source": [
    "from transformers import pipeline\n",
    "pipe = pipeline(\"image-text-to-text\", model=\"llava-hf/llava-interleave-qwen-0.5b-hf\")"
   ]
  },
  {
   "cell_type": "markdown",
   "metadata": {},
   "source": [
    "The example below uses chat templates to format the text inputs."
   ]
  },
  {
   "cell_type": "code",
   "execution_count": null,
   "metadata": {},
   "outputs": [],
   "source": [
    "messages = [\n",
    "     {\n",
    "         \"role\": \"user\",\n",
    "         \"content\": [\n",
    "             {\n",
    "                 \"type\": \"image\",\n",
    "                 \"image\": \"https://huggingface.co/datasets/huggingface/documentation-images/resolve/main/bee.jpg\",\n",
    "             },\n",
    "             {\"type\": \"text\", \"text\": \"Describe this image.\"},\n",
    "         ],\n",
    "     },\n",
    "     {\n",
    "         \"role\": \"assistant\",\n",
    "         \"content\": [\n",
    "             {\"type\": \"text\", \"text\": \"There's a pink flower\"},\n",
    "         ],\n",
    "     },\n",
    " ]"
   ]
  },
  {
   "cell_type": "markdown",
   "metadata": {},
   "source": [
    "Pass the chat template formatted text and image to [Pipeline](https://huggingface.co/docs/transformers/main/en/main_classes/pipelines#transformers.Pipeline) and set `return_full_text=False` to remove the input from the generated output."
   ]
  },
  {
   "cell_type": "code",
   "execution_count": null,
   "metadata": {},
   "outputs": [],
   "source": [
    "outputs = pipe(text=messages, max_new_tokens=20, return_full_text=False)\n",
    "outputs[0][\"generated_text\"]\n",
    "#  with a yellow center in the foreground. The flower is surrounded by red and white flowers with green stems"
   ]
  },
  {
   "cell_type": "markdown",
   "metadata": {},
   "source": [
    "If you prefer, you can also load the images separately and pass them to the pipeline like so:"
   ]
  },
  {
   "cell_type": "code",
   "execution_count": null,
   "metadata": {},
   "outputs": [],
   "source": [
    "pipe = pipeline(\"image-text-to-text\", model=\"HuggingFaceTB/SmolVLM-256M-Instruct\")\n",
    "\n",
    "img_urls = [\n",
    "    \"https://huggingface.co/datasets/huggingface/documentation-images/resolve/main/cats.png\",\n",
    "    \"https://huggingface.co/datasets/huggingface/documentation-images/resolve/main/bee.jpg\",\n",
    "]\n",
    "images = [\n",
    "    Image.open(requests.get(img_urls[0], stream=True).raw),\n",
    "    Image.open(requests.get(img_urls[1], stream=True).raw),\n",
    "]\n",
    "\n",
    "messages = [\n",
    "    {\n",
    "        \"role\": \"user\",\n",
    "        \"content\": [\n",
    "            {\"type\": \"image\"},\n",
    "            {\"type\": \"image\"},\n",
    "            {\"type\": \"text\", \"text\": \"What do you see in these images?\"},\n",
    "        ],\n",
    "    }\n",
    "]\n",
    "outputs = pipe(text=messages, images=images, max_new_tokens=50, return_full_text=False)\n",
    "outputs[0][\"generated_text\"]\n",
    "\" In the first image, there are two cats sitting on a plant. In the second image, there are flowers with a pinkish hue.\""
   ]
  },
  {
   "cell_type": "markdown",
   "metadata": {},
   "source": [
    "The images will still be included in the `\"input_text\"` field of the output:"
   ]
  },
  {
   "cell_type": "code",
   "execution_count": null,
   "metadata": {},
   "outputs": [],
   "source": [
    "outputs[0]['input_text']\n",
    "\"\"\"\n",
    "[{'role': 'user',\n",
    "  'content': [{'type': 'image',\n",
    "    'image': <PIL.PngImagePlugin.PngImageFile image mode=RGBA size=622x412>},\n",
    "   {'type': 'image',\n",
    "    'image': <PIL.JpegImagePlugin.JpegImageFile image mode=RGB size=5184x3456>},\n",
    "   {'type': 'text', 'text': 'What do you see in these images?'}]}]## Streaming\n",
    "\"\"\""
   ]
  },
  {
   "cell_type": "markdown",
   "metadata": {},
   "source": [
    "We can use [text streaming](https://huggingface.co/docs/transformers/main/en/tasks/./generation_strategies#streaming) for a better generation experience. Transformers supports streaming with the [TextStreamer](https://huggingface.co/docs/transformers/main/en/internal/generation_utils#transformers.TextStreamer) or [TextIteratorStreamer](https://huggingface.co/docs/transformers/main/en/internal/generation_utils#transformers.TextIteratorStreamer) classes. We will use the [TextIteratorStreamer](https://huggingface.co/docs/transformers/main/en/internal/generation_utils#transformers.TextIteratorStreamer) with IDEFICS-8B.\n",
    "\n",
    "Assume we have an application that keeps chat history and takes in the new user input. We will preprocess the inputs as usual and initialize [TextIteratorStreamer](https://huggingface.co/docs/transformers/main/en/internal/generation_utils#transformers.TextIteratorStreamer) to handle the generation in a separate thread. This allows you to stream the generated text tokens in real-time. Any generation arguments can be passed to [TextIteratorStreamer](https://huggingface.co/docs/transformers/main/en/internal/generation_utils#transformers.TextIteratorStreamer)."
   ]
  },
  {
   "cell_type": "code",
   "execution_count": null,
   "metadata": {},
   "outputs": [],
   "source": [
    "import time\n",
    "from transformers import TextIteratorStreamer\n",
    "from threading import Thread\n",
    "\n",
    "def model_inference(\n",
    "    user_prompt,\n",
    "    chat_history,\n",
    "    max_new_tokens,\n",
    "    images\n",
    "):\n",
    "    user_prompt = {\n",
    "        \"role\": \"user\",\n",
    "        \"content\": [\n",
    "            {\"type\": \"image\"},\n",
    "            {\"type\": \"text\", \"text\": user_prompt},\n",
    "        ]\n",
    "    }\n",
    "    chat_history.append(user_prompt)\n",
    "    streamer = TextIteratorStreamer(\n",
    "        processor.tokenizer,\n",
    "        skip_prompt=True,\n",
    "        timeout=5.0,\n",
    "    )\n",
    "\n",
    "    generation_args = {\n",
    "        \"max_new_tokens\": max_new_tokens,\n",
    "        \"streamer\": streamer,\n",
    "        \"do_sample\": False\n",
    "    }\n",
    "\n",
    "    # add_generation_prompt=True makes model generate bot response\n",
    "    prompt = processor.apply_chat_template(chat_history, add_generation_prompt=True)\n",
    "    inputs = processor(\n",
    "        text=prompt,\n",
    "        images=images,\n",
    "        return_tensors=\"pt\",\n",
    "    ).to(device)\n",
    "    generation_args.update(inputs)\n",
    "\n",
    "    thread = Thread(\n",
    "        target=model.generate,\n",
    "        kwargs=generation_args,\n",
    "    )\n",
    "    thread.start()\n",
    "\n",
    "    acc_text = \"\"\n",
    "    for text_token in streamer:\n",
    "        time.sleep(0.04)\n",
    "        acc_text += text_token\n",
    "        if acc_text.endswith(\"<end_of_utterance>\"):\n",
    "            acc_text = acc_text[:-18]\n",
    "        yield acc_text\n",
    "\n",
    "    thread.join()"
   ]
  },
  {
   "cell_type": "markdown",
   "metadata": {},
   "source": [
    "Now let's call the `model_inference` function we created and stream the values."
   ]
  },
  {
   "cell_type": "code",
   "execution_count": null,
   "metadata": {},
   "outputs": [],
   "source": [
    "generator = model_inference(\n",
    "    user_prompt=\"And what is in this image?\",\n",
    "    chat_history=messages[:2],\n",
    "    max_new_tokens=100,\n",
    "    images=images\n",
    ")\n",
    "\n",
    "for value in generator:\n",
    "  print(value)\n",
    "\n",
    "# In\n",
    "# In this\n",
    "# In this image ..."
   ]
  },
  {
   "cell_type": "markdown",
   "metadata": {},
   "source": [
    "## Fit models in smaller hardware"
   ]
  },
  {
   "cell_type": "markdown",
   "metadata": {},
   "source": [
    "VLMs are often large and need to be optimized to fit on smaller hardware. Transformers supports many model quantization libraries, and here we will only show int8 quantization with [Quanto](https://huggingface.co/docs/transformers/main/en/tasks/./quantization/quanto#quanto). int8 quantization offers memory improvements up to 75 percent (if all weights are quantized). However it is no free lunch, since 8-bit is not a CUDA-native precision, the weights are quantized back and forth on the fly, which adds up to latency.\n",
    "\n",
    "First, install dependencies.\n",
    "\n",
    "```bash\n",
    "pip install -U quanto bitsandbytes\n",
    "```\n",
    "\n",
    "To quantize a model during loading, we need to first create [QuantoConfig](https://huggingface.co/docs/transformers/main/en/main_classes/quantization#transformers.QuantoConfig). Then load the model as usual, but pass `quantization_config` during model initialization."
   ]
  },
  {
   "cell_type": "code",
   "execution_count": null,
   "metadata": {},
   "outputs": [],
   "source": [
    "from transformers import AutoModelForImageTextToText, QuantoConfig\n",
    "\n",
    "model_id = \"HuggingFaceM4/idefics2-8b\"\n",
    "quantization_config = QuantoConfig(weights=\"int8\")\n",
    "quantized_model = AutoModelForImageTextToText.from_pretrained(\n",
    "    model_id, device_map=\"auto\", quantization_config=quantization_config\n",
    ")"
   ]
  },
  {
   "cell_type": "markdown",
   "metadata": {},
   "source": [
    "And that's it, we can use the model the same way with no changes."
   ]
  },
  {
   "cell_type": "markdown",
   "metadata": {},
   "source": [
    "## Further Reading"
   ]
  },
  {
   "cell_type": "markdown",
   "metadata": {},
   "source": [
    "Here are some more resources for the image-text-to-text task.\n",
    "\n",
    "- [Image-text-to-text task page](https://huggingface.co/tasks/image-text-to-text) covers model types, use cases, datasets, and more.\n",
    "- [Vision Language Models Explained](https://huggingface.co/blog/vlms) is a blog post that covers everything about vision language models and supervised fine-tuning using [TRL](https://huggingface.co/docs/trl/en/index)."
   ]
  }
 ],
 "metadata": {},
 "nbformat": 4,
 "nbformat_minor": 4
}
